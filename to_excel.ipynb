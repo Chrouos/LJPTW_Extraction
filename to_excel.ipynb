{
 "cells": [
  {
   "cell_type": "code",
   "execution_count": 24,
   "metadata": {},
   "outputs": [],
   "source": [
    "import os\n",
    "import pandas as pd\n",
    "\n",
    "base_folder = [\"ori\", \"filter\" , \"TWLJP_1\", \"TWLJP_2\", \"TWLJP_3\", \"TWLJP_4\"]\n",
    "base_path = './data/processed/statistics/'"
   ]
  },
  {
   "cell_type": "code",
   "execution_count": 25,
   "metadata": {},
   "outputs": [],
   "source": [
    "def load_status_data(file_path):\n",
    "    status_count = dict()\n",
    "    with open(f\"{file_path}\", 'r', encoding='utf-8') as file:\n",
    "        for line in file:\n",
    "            parts = line.strip().split(', ')\n",
    "            \n",
    "            if len(parts) > 2:\n",
    "                combined = '-'.join(parts[:-1])  # 連接除了最後一個元素以外的所有元素\n",
    "                status_count[combined] = int(parts[-1])  # 使用連接後的字串作為鍵，最後一個元素作為值\n",
    "            \n",
    "            elif len(parts) < 2: pass\n",
    "            \n",
    "            else:\n",
    "                status_count[parts[0]] = int(parts[1])\n",
    "            \n",
    "    return status_count"
   ]
  },
  {
   "cell_type": "code",
   "execution_count": 27,
   "metadata": {},
   "outputs": [],
   "source": [
    "# 使用 ExcelWriter 將數據寫入 Excel\n",
    "with pd.ExcelWriter('combined_categories_count.xlsx') as writer:\n",
    "\n",
    "    for folder in base_folder:\n",
    "        df = pd.DataFrame() # 初始化一個空的 DataFrame\n",
    "        start_col = 0  # 初始化起始列\n",
    "\n",
    "        folder_path = os.path.join(base_path, folder)\n",
    "        sheet_name = folder  # 將工作表命名為當前資料夾名稱\n",
    "\n",
    "        for subdir, dirs, files in os.walk(folder_path):\n",
    "            for file in files:\n",
    "                file_path = os.path.join(subdir, file)\n",
    "\n",
    "                if file_path.endswith('_count.txt'):\n",
    "                    category_name = os.path.basename(file).split('_')[0]\n",
    "                    category_dict = load_status_data(file_path)\n",
    "\n",
    "                    # 將字典轉換為 DataFrame\n",
    "                    temp_df = pd.DataFrame(list(category_dict.items()), columns=[category_name, f'{category_name}_count'])\n",
    "\n",
    "                    # 將 temp_df 添加到 df，並在其之前留出一列空白\n",
    "                    temp_df.to_excel(writer, sheet_name=sheet_name, startcol=start_col, index=False)\n",
    "\n",
    "                    # 更新 start_col 以便下一個 DataFrame 從適當的列開始\n",
    "                    start_col += len(temp_df.columns) + 1"
   ]
  }
 ],
 "metadata": {
  "kernelspec": {
   "display_name": "Python 3",
   "language": "python",
   "name": "python3"
  },
  "language_info": {
   "codemirror_mode": {
    "name": "ipython",
    "version": 3
   },
   "file_extension": ".py",
   "mimetype": "text/x-python",
   "name": "python",
   "nbconvert_exporter": "python",
   "pygments_lexer": "ipython3",
   "version": "3.11.5"
  }
 },
 "nbformat": 4,
 "nbformat_minor": 2
}
