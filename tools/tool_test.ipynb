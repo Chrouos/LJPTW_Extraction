{
 "cells": [
  {
   "cell_type": "code",
   "execution_count": 2,
   "metadata": {},
   "outputs": [],
   "source": [
    "import cn2an\n",
    "from operation import chinese_to_int"
   ]
  },
  {
   "cell_type": "code",
   "execution_count": 3,
   "metadata": {},
   "outputs": [],
   "source": [
    "\n",
    "replaceChineseNumbers_test = {\n",
    "    '一萬八千': 18000,\n",
    "    '二十三': 23,\n",
    "    '100,000': 100000,\n",
    "    '1百萬': 1000000,\n",
    "    '一百萬': 1000000,\n",
    "    '一千零一十': 1010,\n",
    "    '一百零一': 101,\n",
    "    '二三': 23,\n",
    "    '九九': 99,\n",
    "    '3.5萬': 35000,\n",
    "    \"十四\": 14,\n",
    "    \"四十\": 40,\n",
    "    \"6拾\": 60,\n",
    "    \"6拾萬\": 600000,\n",
    "    \"拾萬\": 100000,\n",
    "    \"10萬\": 100000,\n",
    "    \"一百萬\": 1000000,\n",
    "    \"100萬\": 1000000,\n",
    "    \"拾1\": 11,\n",
    "    \"2佰8拾6万3仟\": 2863000,\n",
    "    \"三千零八十\":3080,\n",
    "    # \"2佰8拾6万3仟8拾\": 2863080,\n",
    "    \"2佰8拾6万3仟零8拾\": 2863080\n",
    "}\n",
    "\n",
    "for key, number in replaceChineseNumbers_test.items():\n",
    "    key = key.replace(',', '')\n",
    "    translate_number = cn2an.cn2an(key, 'smart')\n",
    "    if translate_number != number:\n",
    "        print(f\"錯誤 {key} => {translate_number} (正確答案: {number})\")"
   ]
  },
  {
   "cell_type": "markdown",
   "metadata": {},
   "source": [
    "# 日期"
   ]
  },
  {
   "cell_type": "code",
   "execution_count": 12,
   "metadata": {},
   "outputs": [
    {
     "name": "stdout",
     "output_type": "stream",
     "text": [
      "==== 吳建璋犯竊盜罪，累犯，處有期徒刑參月，如易科罰金，以新臺幣壹仟元折算壹日；又犯竊盜罪，累犯，處拘役參拾日，如易科罰金，以新臺幣壹仟元折算壹日。未扣案之窗型冷氣機貳臺、大衛杜夫牌香菸壹條及現金新臺幣柒佰元均沒收，於全部或一部不能沒收或不宜執行沒收時，追徵其價額。犯罪事實及理由一、本案犯罪事實及證據，除補充彰化縣警察局北斗分局埤頭分駐所受理各類案件紀錄表1紙外，其餘均與檢察官聲請簡易判決處刑書之記載相同，茲引用如附件。二、核被告吳建璋所為，均係犯刑法第320條第1項之竊盜罪。被告先後2次竊盜犯行，犯意各別，行為互異，應予分論併罰。又被告前曾因施用毒品及竊盜等案件，經本院先後以106年度訴字第1176、1345、1425號、107年度訴字第34號、107年度易字第531號判決，各判處有期徒刑7月、8月、7月、4月、9月、10月確定，嗣經定應執行有期徒刑3年2月，入監執行後，於民國109年3月18日縮短刑期假釋出監，同年8月31日假釋期滿未經撤銷視為執行完畢，此有臺灣高等法院被告前案紀錄表附卷足佐，被告於受有期徒刑執行完畢後，5年內故意再犯本件有期徒刑以上之罪，均為累犯，參酌司法院大法官會議釋字第775號解釋意旨，本件被告依其犯罪情節，並無處以法定最輕本刑仍顯過苛之情形，自應依刑法第47條第1項規定，均加重其刑。爰審酌被告前曾因竊盜案件，經本院判處罪刑在案，有上開臺灣高等法院被告前案紀錄表可參，猶不知警惕，任意竊取他人之財物，顯示其行為偏差，且法治觀念薄弱，惟考量被告犯後坦認犯行，態度尚佳，兼衡被告犯罪之動機、手段、本案中各次竊取之財物價值，自述高職肄業之教育程度、業工、家庭經濟狀況勉持等一切情狀，就犯罪事實欄一㈠、㈡部分，分別量處有期徒刑3月及拘役30日，並均諭知易科罰金之折算標準。三、被告因本案之犯罪所得窗型冷氣機2台、大衛杜夫牌香菸1條及現金新臺幣700元，雖未扣案，仍應依刑法第38之1第1項規定宣告沒收，於全部或一部不能沒收或不宜執行沒收時，依同條第3項規定追徵其價額。四、依刑事訴訟法第449條第1項、第450條第1項、第454條第2項，逕以簡易判決處刑如主文。五、如不服本判決，得自收受送達之翌日起20日內向本院提出上訴狀，上訴於本院第二審合議庭（須附繕本）。本案經檢察官王銘仁聲請簡易判決處刑。中華民國110年5月12日刑事第九庭法官王義閔以上正本證明與原本無異。如不服本件判決，得自收受送達之日起20日內，表明上訴理由，向本庭提起上訴狀（須附繕本）。告訴人或被害人對於判決如有不服具備理由請求檢察官上訴者，其上訴期間之計算係以檢察官收受判決正本之日期為準。中華民國110年5月12日書記官廖涵萱附錄本案論罪科刑法條全文：中華民國刑法第320條意圖為自己或第三人不法之所有，而竊取他人之動產者，為竊盜罪，處5年以下有期徒刑、拘役或50萬元以下罰金。意圖為自己或第三人不法之利益，而竊佔他人之不動產者，依前項之規定處斷。前二項之未遂犯罰之。附件臺灣彰化地方檢察署檢察官聲請簡易判決處刑書110年度偵字第4124號被告吳建璋男00歲（民國00年0月0日生）住彰化縣○○鄉○○村○○巷000○0號國民身分證統一編號：0000000000號(現於○○部○○署○○○○所附設勒戒處所觀察、勒戒中)上列被告因竊盜案件，業經偵查終結，認為宜聲請以簡易判決處刑，茲將犯罪事實及證據並所犯法條分敘如下：犯罪事實一、吳建璋前因施用毒品、竊盜等案件，經法院分別判處有期徒刑7月、8月、7月、4月、9月、10月，合併定應執行刑有期徒刑3年2月確定，於民國109年8月31日假釋付保護管束期滿未經撤銷，以已執行論。詎仍不知悔改，意圖為自己不法之所有，基於竊盜之犯意，分別為下列行為：㈠於110年2月19日19時20分許，駕駛車牌號碼000-0000號普通重型機車，至張瑪㻳位於彰化縣○○鄉○○○路000號處所，見該處無人居住，即自該處大門旁空隙進入，徒手竊取該處窗型冷氣機2台，得手後放置在上開機車離去，並將上開竊得冷氣機2台變賣予不詳之資源回收商，得款新臺幣(下同)2,100元後花用殆盡。㈡於110年2月22日23時59分許，在彰化縣○○鄉○○街000號前，見許萬宗所有車牌號碼00-0000號自用小客車放置在該處，趁該車輛車門未上鎖且無人看管之際，徒手竊取車內之大衛杜夫牌香菸1條、零錢700元，得手後將上開竊得物品花用殆盡。二、案經彰化縣警察局北斗分局報告偵辦。證據並所犯法條一、上揭犯罪事實，業據被告吳建璋於警詢及偵查中坦承不諱，核與證人即被害人許萬宗、張瑪㻳於警詢時之證述情節相符，並有員警職務報告、監視器影像擷取照片3張、查獲及現場照片8張、車輛詳細資料報表等在卷可稽，足徵被告自白與事實相符，其犯嫌堪以認定。二、核被告所為，均係犯刑法第320條第1項之竊盜罪嫌。其所涉上開2犯行間，犯意個別，行為殊異，請予分論併罰。又被告曾受如犯罪事實欄所述之有期徒刑執行完畢後，有本署刑案資料查註紀錄表在卷可參，其於5年內故意再犯本件有期徒刑以上之2罪，均為累犯，請依刑法第47條第1項規定，酌情加重其刑。又上開遭竊冷氣機2台、大衛杜夫牌香菸1條、零錢700元，係被告因實現本案竊盜所獲得之財物，核屬被告所有之犯罪所得，並未扣案，亦未歸還被害人許萬宗、張瑪㻳，業據被告供陳在卷，請依刑法第38條之1第1項規定宣告沒收，如全部或一部不能沒收或不宜執行沒收時，請依同條第3項規定，追徵其價額。三、至報告意旨雖認被告另係竊盜被害人許萬宗車內零錢1,200元，然被告堅決否認竊取上開金額，僅坦承竊取零錢700元等語。經查，本件被害人許萬宗雖稱遭竊零錢1,200元，然未提出所述留存現金數額之相關憑據可資證明，且案發後亦無查獲被告持有竊盜後之現金等相關事證，即乏其他具體證據足資證明被害人許萬宗遭竊之款項金額確係1,200元，自難僅憑被害人許萬宗片面之指述，遽為不利於被告之認定。惟此部分如成立犯罪，因與前開犯罪事實部分，為同一基本社會事實，應為聲請簡易判決效力所及，爰不另為不起訴處分，附此敘明。四、依刑事訴訟法第451條第1項聲請逕以簡易判決處刑。此致臺灣彰化地方法院中華民國110年4月28日檢察官王銘仁本件正本證明與原本無異中華民國110年4月30日書記官楊雅菁附錄本案所犯法條全文中華民國刑法第320條意圖為自己或第三人不法之所有，而竊取他人之動產者，為竊盜罪，處5年以下有期徒刑、拘役或50萬元以下罰金。意圖為自己或第三人不法之利益，而竊佔他人之不動產者，依前項之規定處斷。前二項之未遂犯罰之。 => 錯誤匹配: 及拘役30\n",
      "有期徒刑0年3月\n",
      "拘役0年0月30日\n",
      "有期徒刑0年7月\n",
      "有期徒刑3年2月\n",
      "!-> 相關匹配: 及拘役30, 錯誤詳情: 当前为smart模式，输入的数据不在转化范围内：及！\n",
      "有期徒刑0年3月0日\n",
      "有期徒刑0年7月\n",
      "有期徒刑3年2月\n"
     ]
    }
   ],
   "source": [
    "import re\n",
    "import cn2an\n",
    "\n",
    "# fact\n",
    "line_list = [\n",
    "]\n",
    "\n",
    "total_imprisonment = 0\n",
    "\n",
    "\n",
    "def parse_time(time_str, line):\n",
    "    # 解析時間字符串，返回年、月、日的數值\n",
    "    try:\n",
    "        return int(cn2an.cn2an(chinese_to_int(time_str) if time_str != '' else 0, 'smart'))\n",
    "    except ValueError as e:\n",
    "        print(f\"!-> 相關匹配: {time_str}, 錯誤詳情: {e}\")\n",
    "        return 0\n",
    "\n",
    "for line in line_list:\n",
    "    \n",
    "    print(\"====\", line)\n",
    "\n",
    "    imprisonments = []\n",
    "    total_imprisonment = 0  \n",
    "\n",
    "    if '年' in line or '月' in line or '日' in line:\n",
    "        \n",
    "        # 合併正則表達式\n",
    "        pattern = re.compile(r'(有期徒刑|拘役)(?:([\\u4e00-\\u9fff\\d+]{1,2})年)?(?:([\\u4e00-\\u9fff\\d+]{1,2})月)?(?:([\\u4e00-\\u9fff\\d]{1,5})日)?')\n",
    "        filter_char = {\n",
    "            '(': '', \n",
    "            '（': '', \n",
    "            ')': '', \n",
    "            '）': '', \n",
    "            '以': '', \n",
    "            '又': '',\n",
    "            '月月': '月',\n",
    "            '萬萬': '萬',\n",
    "            '年年': '年'\n",
    "        }\n",
    "        temp_text = line\n",
    "        for char in filter_char:\n",
    "            temp_text = temp_text.replace(char, '')\n",
    "        \n",
    "        matches = pattern.findall(temp_text)\n",
    "        \n",
    "        for match in matches:\n",
    "            sentence_type, years, months, days = match\n",
    "\n",
    "            years_val = parse_time(years, line)\n",
    "            months_val = parse_time(months, line)\n",
    "            days_val = parse_time(days, line)\n",
    "\n",
    "            if years_val != 0 or months_val != 0 or days_val != 0:\n",
    "                imprisonment_str = f\"{sentence_type}{years_val}年{months_val}月{days_val}日\" if days else f\"{sentence_type}{years_val}年{months_val}月\"\n",
    "                print(imprisonment_str)\n",
    "            "
   ]
  },
  {
   "cell_type": "markdown",
   "metadata": {},
   "source": [
    "# 罰金"
   ]
  },
  {
   "cell_type": "code",
   "execution_count": 5,
   "metadata": {},
   "outputs": [
    {
     "name": "stdout",
     "output_type": "stream",
     "text": [
      "==== 胡政啟(一)犯詐欺取財罪，處有期徒刑貳年拾月，扣案如附表三編號1至3所示之物，均沒收之，未扣案之犯罪所得新臺幣伍佰零柒萬參仟元沒收之，於全部或一部不能沒收或不宜執行沒收時，追徵其價額；(二)又共同犯恐嚇取財罪，處有期徒刑貳年，扣案如附表三編號1至2所示之物，均沒收之，未扣案之犯罪所得新臺幣壹佰捌拾伍萬元沒收之，於全部或一部不能沒收或不宜執行沒收時，追徵其價額；(三)又幫助犯賭博罪，處罰金新臺幣陸仟元，如易服勞役，以新臺幣壹仟元折算壹日，扣案如附表三編號4至9所示之物，均沒收之；(四)又共同犯賭博罪，處罰金新臺幣陸仟元，如易服勞役，以新臺幣壹仟元折算壹日，扣案如附表三編號4至9所示之物，均沒收之。(一)(二)主刑部分應執行有期徒刑肆年陸月；(三)(四)主刑部分應執行罰金新臺幣壹萬元，如易服勞役，以新臺幣壹仟元折算壹日。賴金安(一)共同犯恐嚇取財罪，處有期徒刑陸月，如易科罰金，以新臺幣壹仟元折算壹日；(二)又犯賭博罪，處罰金新臺幣陸仟元，如易服勞役，以新臺幣壹仟元折算壹日；(三)又共同犯賭博罪，處罰金新臺幣陸仟元，如易服勞役，以新臺幣壹仟元折算壹日。(二)(三)主刑部分應執行罰金新臺幣壹萬元，如易服勞役，以新臺幣壹仟元折算壹日。\n",
      "O -> 相關匹配: 6000\n",
      "O -> 相關匹配: 6000\n",
      "O -> 相關匹配: 10000\n",
      "O -> 相關匹配: 6000\n",
      "O -> 相關匹配: 6000\n",
      "O -> 相關匹配: 10000\n"
     ]
    }
   ],
   "source": [
    "line_list = [\n",
    "    \"胡政啟(一)犯詐欺取財罪，處有期徒刑貳年拾月，扣案如附表三編號1至3所示之物，均沒收之，未扣案之犯罪所得新臺幣伍佰零柒萬參仟元沒收之，於全部或一部不能沒收或不宜執行沒收時，追徵其價額；(二)又共同犯恐嚇取財罪，處有期徒刑貳年，扣案如附表三編號1至2所示之物，均沒收之，未扣案之犯罪所得新臺幣壹佰捌拾伍萬元沒收之，於全部或一部不能沒收或不宜執行沒收時，追徵其價額；(三)又幫助犯賭博罪，處罰金新臺幣陸仟元，如易服勞役，以新臺幣壹仟元折算壹日，扣案如附表三編號4至9所示之物，均沒收之；(四)又共同犯賭博罪，處罰金新臺幣陸仟元，如易服勞役，以新臺幣壹仟元折算壹日，扣案如附表三編號4至9所示之物，均沒收之。(一)(二)主刑部分應執行有期徒刑肆年陸月；(三)(四)主刑部分應執行罰金新臺幣壹萬元，如易服勞役，以新臺幣壹仟元折算壹日。賴金安(一)共同犯恐嚇取財罪，處有期徒刑陸月，如易科罰金，以新臺幣壹仟元折算壹日；(二)又犯賭博罪，處罰金新臺幣陸仟元，如易服勞役，以新臺幣壹仟元折算壹日；(三)又共同犯賭博罪，處罰金新臺幣陸仟元，如易服勞役，以新臺幣壹仟元折算壹日。(二)(三)主刑部分應執行罰金新臺幣壹萬元，如易服勞役，以新臺幣壹仟元折算壹日。\"\n",
    "]\n",
    "\n",
    "pattern = re.compile(r\"(?<!易科)(?:罰金(?:新(?:臺|台)幣)?)([\\u4e00-\\u9fff]+)元(?<!折算壹日)[，。、？]\")\n",
    "\n",
    "for line in line_list:\n",
    "    print(\"====\", line)\n",
    "    \n",
    "    amount_list = []\n",
    "    matches = pattern.findall(line)  # 使用 findall 來找到所有匹配\n",
    "    for match in matches:\n",
    "        try:\n",
    "            regular_match = cn2an.cn2an(chinese_to_int(match), 'smart')\n",
    "            print(f\"O -> 相關匹配: {regular_match}\")\n",
    "        except Exception as e:\n",
    "            print(f\"!error -> 相關匹配: {match}, 錯誤詳情: {e}\")\n"
   ]
  },
  {
   "cell_type": "code",
   "execution_count": 6,
   "metadata": {},
   "outputs": [
    {
     "name": "stdout",
     "output_type": "stream",
     "text": [
      "臺灣彰化地方法院 110 年度 交易 字第 268 號 判決\n"
     ]
    }
   ],
   "source": [
    "import re\n",
    "def re_charges(content, pattern=r'裁判字號：(.+)'):\n",
    "    match = re.search(pattern, content, re.MULTILINE)\n",
    "    if match:\n",
    "        return match.group(1).strip()\n",
    "    return \"\"\n",
    "\n",
    "# 使用範例\n",
    "content = \"\\n\".join([\"裁判字號：臺灣彰化地方法院 110 年度 交易 字第 268 號 判決\"])\n",
    "charges = re_charges(content)\n",
    "print(charges)"
   ]
  },
  {
   "cell_type": "code",
   "execution_count": 7,
   "metadata": {},
   "outputs": [
    {
     "name": "stdout",
     "output_type": "stream",
     "text": [
      "過失傷害\n"
     ]
    }
   ],
   "source": [
    "\n",
    "import re\n",
    "def re_charges(content, pattern=r'裁判案由：(.+)'):\n",
    "    for line in content:\n",
    "        match = re.search(pattern, line, re.MULTILINE)\n",
    "        if match:\n",
    "            return match.group(1).strip()\n",
    "    return \"\"\n",
    "\n",
    "# 使用範例\n",
    "content = [\n",
    "        \"裁判字號：臺灣彰化地方法院 110 年度 交易 字第 268 號 判決\",\n",
    "        \"裁判案由：過失傷害\",\n",
    "        \".......\",\n",
    "        \"....\"\n",
    "]\n",
    "\n",
    "charges = re_charges(content)\n",
    "print(charges)"
   ]
  },
  {
   "cell_type": "code",
   "execution_count": 8,
   "metadata": {},
   "outputs": [
    {
     "name": "stdout",
     "output_type": "stream",
     "text": [
      "廢棄物清理法第46條\n",
      "['廢棄物清理法', '第46條']\n",
      "中華民國刑法第185條之3\n",
      "['刑法', '第185條之3']\n"
     ]
    }
   ],
   "source": [
    "from operation import chinese_to_int, convert_fullwidth_to_halfwidth\n",
    "line_list = [\n",
    "    \"廢棄物清理法第46條\",\n",
    "    \"中華民國刑法第185條之3\"\n",
    "    \n",
    "]\n",
    "\n",
    "law_list = [    '刑法', '毒品危害防制條例', '槍砲彈藥刀械管制條例', '藥事法', '著作權法', \\\n",
    "                '廢棄物清理法', '性騷擾防治法', '公職人員選舉罷免法', '建築法', '家庭暴力防治法', \\\n",
    "                '就業服務法', '入出國及移民法', '性侵害犯罪防治法', '公司法', '商業會計法', '稅捐稽徵法',\\\n",
    "                '洗錢防制法', '兒童及少年性剝削防制條例', '區域計畫法', '醫療法', '水土保持法',\n",
    "                '組織犯罪防制條例', '妨害兵役治罪條例', '銀行法', '電子遊戲場業管理條例', '醫師法', \\\n",
    "                '政府採購法', '個人資料保護法', '森林法', '野生動物保育法', '水污染防治法', '臺灣地區與大陸地區人民關係條例', \\\n",
    "                '動物保護法', '貪污治罪條例', '商標法', '漁業法', '菸酒管理法', '替代役實施條例', '空氣污染防制法', \\\n",
    "                '動物傳染病防治條例', '期貨交易法']\n",
    "\n",
    "for line in line_list:\n",
    "    print(line)\n",
    "    parts = re.split('，|。|、', line)\n",
    "    current_prefix = None\n",
    "\n",
    "    for part in parts:\n",
    "        for law in law_list:\n",
    "            if law in part:\n",
    "                current_prefix = law\n",
    "                article_number = re.search(r'第(\\d+條之\\d+|\\d+條)', part)\n",
    "                if article_number:\n",
    "                    converted_text = convert_fullwidth_to_halfwidth(article_number.group(0))\n",
    "                    print([f'{current_prefix}', article_number.group(0)])\n",
    "                break  \n",
    "            \n",
    "        else:  \n",
    "            if current_prefix:\n",
    "                article_number = re.search(r'第(\\d+條之\\d+|\\d+條)', part)\n",
    "                if article_number:\n",
    "                    # matches.append(f'{current_prefix}第{article_number.group(1)}條')\n",
    "                    converted_text = convert_fullwidth_to_halfwidth(article_number.group(0))\n",
    "                    print([f'{current_prefix}', article_number.group(0)])\n",
    "                    "
   ]
  },
  {
   "cell_type": "code",
   "execution_count": 6,
   "metadata": {},
   "outputs": [
    {
     "data": {
      "text/plain": [
       "'\"未達 article_charge 標準, 0\"\\n\"Reason 是「未抓取成功」/「裁定判決」, 0\"\\n\"不存在「main_text」/「fact」, 0\"\\n\"多位犯罪者, 0\"\\n\"沒擷取到犯罪者資訊, 0\"'"
      ]
     },
     "execution_count": 6,
     "metadata": {},
     "output_type": "execute_result"
    }
   ],
   "source": [
    "import json\n",
    "delete_count = {\n",
    "    \"未達 article_charge 標準\": 0,\n",
    "    \"Reason 是「未抓取成功」/「裁定判決」\": 0,\n",
    "    \"不存在「main_text」/「fact」\": 0,\n",
    "    \"多位犯罪者\": 0,\n",
    "    \"沒擷取到犯罪者資訊\": 0\n",
    "}\n",
    "\n",
    "array = [f\"{key}, {value}\" for key, value in delete_count.items()]\n",
    "json_content = \"\\n\".join([json.dumps(item, ensure_ascii=False) for item in array])\n",
    "json_content"
   ]
  },
  {
   "cell_type": "code",
   "execution_count": null,
   "metadata": {},
   "outputs": [],
   "source": []
  }
 ],
 "metadata": {
  "kernelspec": {
   "display_name": "Python 3",
   "language": "python",
   "name": "python3"
  },
  "language_info": {
   "codemirror_mode": {
    "name": "ipython",
    "version": 3
   },
   "file_extension": ".py",
   "mimetype": "text/x-python",
   "name": "python",
   "nbconvert_exporter": "python",
   "pygments_lexer": "ipython3",
   "version": "3.11.5"
  }
 },
 "nbformat": 4,
 "nbformat_minor": 2
}
