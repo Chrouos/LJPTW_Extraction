{
 "cells": [
  {
   "cell_type": "code",
   "execution_count": 33,
   "metadata": {},
   "outputs": [],
   "source": [
    "import cn2an"
   ]
  },
  {
   "cell_type": "markdown",
   "metadata": {},
   "source": [
    "# 測試國字轉數字"
   ]
  },
  {
   "cell_type": "code",
   "execution_count": 35,
   "metadata": {},
   "outputs": [],
   "source": [
    "\n",
    "replaceChineseNumbers_test = {\n",
    "    '一萬八千': 18000,\n",
    "    '二十三': 23,\n",
    "    '100,000': 100000,\n",
    "    '1百萬': 1000000,\n",
    "    '一百萬': 1000000,\n",
    "    '一千零一十': 1010,\n",
    "    '一百零一': 101,\n",
    "    '二三': 23,\n",
    "    '九九': 99,\n",
    "    '3.5萬': 35000,\n",
    "    \"十四\": 14,\n",
    "    \"四十\": 40,\n",
    "    \"6拾\": 60,\n",
    "    \"6拾萬\": 600000,\n",
    "    \"拾萬\": 100000,\n",
    "    \"10萬\": 100000,\n",
    "    \"一百萬\": 1000000,\n",
    "    \"100萬\": 1000000,\n",
    "    \"拾1\": 11\n",
    "}\n",
    "\n",
    "for key, number in replaceChineseNumbers_test.items():\n",
    "    key = key.replace(',', '')\n",
    "    translate_number = cn2an.cn2an(key, 'smart')\n",
    "    if translate_number != number:\n",
    "        print(f\"錯誤 {key} => {translate_number} (正確答案: {number})\")"
   ]
  },
  {
   "cell_type": "markdown",
   "metadata": {},
   "source": [
    "# 日期"
   ]
  },
  {
   "cell_type": "code",
   "execution_count": 28,
   "metadata": {},
   "outputs": [
    {
     "name": "stdout",
     "output_type": "stream",
     "text": [
      "處拘役零年零月肆拾日\n",
      "('零', '零', '肆拾')\n",
      "處拘役零年零月肆拾日\n",
      "('零', '零', '肆拾')\n",
      "有期徒刑零年貳月\n",
      "('零', '貳', '')\n",
      "又犯非法製造子彈罪，處有期徒刑壹年，併科罰金新臺幣壹萬元，罰金如易服勞役，以新臺幣壹仟元折算壹日。有期徒刑部分應執行有期徒刑伍年陸月，罰金部分應執行新臺幣參萬伍仟元，罰金如易服勞役，以新臺幣壹仟元折算壹日。\n",
      "('壹', '', '')\n",
      "('', '', '')\n",
      "('伍', '陸', '')\n",
      "蕭迪晃駕駛動力交通工具而吐氣所含酒精濃度達每公升零點二五毫克以上，處有期徒刑參月，如易科罰金，以新臺幣壹仟元折算壹日。\n",
      "('', '參', '')\n"
     ]
    },
    {
     "ename": "ValueError",
     "evalue": "当前为smart模式，输入的数据不在转化范围内：参！",
     "output_type": "error",
     "traceback": [
      "\u001b[0;31m---------------------------------------------------------------------------\u001b[0m",
      "\u001b[0;31mValueError\u001b[0m                                Traceback (most recent call last)",
      "Cell \u001b[0;32mIn[28], line 32\u001b[0m\n\u001b[1;32m     29\u001b[0m         years, months, days \u001b[38;5;241m=\u001b[39m match\n\u001b[1;32m     30\u001b[0m         \u001b[38;5;28mprint\u001b[39m(match)\n\u001b[0;32m---> 32\u001b[0m \u001b[38;5;28mprint\u001b[39m(\u001b[43mcn2an\u001b[49m\u001b[38;5;241;43m.\u001b[39;49m\u001b[43mcn2an\u001b[49m\u001b[43m(\u001b[49m\u001b[38;5;124;43m'\u001b[39;49m\u001b[38;5;124;43m參\u001b[39;49m\u001b[38;5;124;43m'\u001b[39;49m\u001b[43m,\u001b[49m\u001b[43m \u001b[49m\u001b[38;5;124;43m'\u001b[39;49m\u001b[38;5;124;43msmart\u001b[39;49m\u001b[38;5;124;43m'\u001b[39;49m\u001b[43m)\u001b[49m)\n",
      "File \u001b[0;32m/Library/Frameworks/Python.framework/Versions/3.11/lib/python3.11/site-packages/cn2an/cn2an.py:58\u001b[0m, in \u001b[0;36mCn2An.cn2an\u001b[0;34m(self, inputs, mode)\u001b[0m\n\u001b[1;32m     55\u001b[0m inputs \u001b[38;5;241m=\u001b[39m inputs\u001b[38;5;241m.\u001b[39mreplace(\u001b[38;5;124m\"\u001b[39m\u001b[38;5;124m廿\u001b[39m\u001b[38;5;124m\"\u001b[39m, \u001b[38;5;124m\"\u001b[39m\u001b[38;5;124m二十\u001b[39m\u001b[38;5;124m\"\u001b[39m)\n\u001b[1;32m     57\u001b[0m \u001b[38;5;66;03m# 检查输入数据是否有效\u001b[39;00m\n\u001b[0;32m---> 58\u001b[0m sign, integer_data, decimal_data, is_all_num \u001b[38;5;241m=\u001b[39m \u001b[38;5;28;43mself\u001b[39;49m\u001b[38;5;241;43m.\u001b[39;49m\u001b[43m__check_input_data_is_valid\u001b[49m\u001b[43m(\u001b[49m\u001b[43minputs\u001b[49m\u001b[43m,\u001b[49m\u001b[43m \u001b[49m\u001b[43mmode\u001b[49m\u001b[43m)\u001b[49m\n\u001b[1;32m     60\u001b[0m \u001b[38;5;66;03m# smart 下的特殊情况\u001b[39;00m\n\u001b[1;32m     61\u001b[0m \u001b[38;5;28;01mif\u001b[39;00m sign \u001b[38;5;241m==\u001b[39m \u001b[38;5;241m0\u001b[39m:\n",
      "File \u001b[0;32m/Library/Frameworks/Python.framework/Versions/3.11/lib/python3.11/site-packages/cn2an/cn2an.py:155\u001b[0m, in \u001b[0;36mCn2An.__check_input_data_is_valid\u001b[0;34m(self, check_data, mode)\u001b[0m\n\u001b[1;32m    153\u001b[0m \u001b[38;5;28;01mfor\u001b[39;00m data \u001b[38;5;129;01min\u001b[39;00m check_data:\n\u001b[1;32m    154\u001b[0m     \u001b[38;5;28;01mif\u001b[39;00m data \u001b[38;5;129;01mnot\u001b[39;00m \u001b[38;5;129;01min\u001b[39;00m \u001b[38;5;28mself\u001b[39m\u001b[38;5;241m.\u001b[39mcheck_key_dict[mode]:\n\u001b[0;32m--> 155\u001b[0m         \u001b[38;5;28;01mraise\u001b[39;00m \u001b[38;5;167;01mValueError\u001b[39;00m(\u001b[38;5;124mf\u001b[39m\u001b[38;5;124m\"\u001b[39m\u001b[38;5;124m当前为\u001b[39m\u001b[38;5;132;01m{\u001b[39;00mmode\u001b[38;5;132;01m}\u001b[39;00m\u001b[38;5;124m模式，输入的数据不在转化范围内：\u001b[39m\u001b[38;5;132;01m{\u001b[39;00mdata\u001b[38;5;132;01m}\u001b[39;00m\u001b[38;5;124m！\u001b[39m\u001b[38;5;124m\"\u001b[39m)\n\u001b[1;32m    157\u001b[0m \u001b[38;5;66;03m# 确定正负号\u001b[39;00m\n\u001b[1;32m    158\u001b[0m \u001b[38;5;28;01mif\u001b[39;00m check_data[\u001b[38;5;241m0\u001b[39m] \u001b[38;5;241m==\u001b[39m \u001b[38;5;124m\"\u001b[39m\u001b[38;5;124m负\u001b[39m\u001b[38;5;124m\"\u001b[39m:\n",
      "\u001b[0;31mValueError\u001b[0m: 当前为smart模式，输入的数据不在转化范围内：参！"
     ]
    }
   ],
   "source": [
    "import re\n",
    "import cn2an\n",
    "\n",
    "# fact\n",
    "line_list = [\n",
    "    '處拘役零年零月肆拾日', \n",
    "    '處拘役零年零月肆拾日',\n",
    "    '有期徒刑零年貳月',\n",
    "    \"又犯非法製造子彈罪，處有期徒刑壹年，併科罰金新臺幣壹萬元，罰金如易服勞役，以新臺幣壹仟元折算壹日。有期徒刑部分應執行有期徒刑伍年陸月，罰金部分應執行新臺幣參萬伍仟元，罰金如易服勞役，以新臺幣壹仟元折算壹日。\",\n",
    "    \"蕭迪晃駕駛動力交通工具而吐氣所含酒精濃度達每公升零點二五毫克以上，處有期徒刑參月，如易科罰金，以新臺幣壹仟元折算壹日。\"\n",
    "]\n",
    "\n",
    "total_imprisonment = 0\n",
    "\n",
    "# 有期徒刑的正則表達式\n",
    "pattern_imprisonment = re.compile(r'有期徒刑(?:([\\u4e00-\\u9fff]{1,2})年)?(?:([\\u4e00-\\u9fff]{1,2})月)?(?:(?:又)([\\u4e00-\\u9fff]{1,2})日)?')\n",
    "# 拘役的正則表達式\n",
    "pattern_detention = re.compile(r'處拘役(?:([\\u4e00-\\u9fff]{1,2})年)?(?:([\\u4e00-\\u9fff]{1,2})月)?(?:([\\u4e00-\\u9fff]{1,2})日)?')\n",
    "\n",
    "for line in line_list:\n",
    "    print(line)\n",
    "    matches_imprisonment = pattern_imprisonment.findall(line)\n",
    "    for match in matches_imprisonment:\n",
    "        years, months, days = match\n",
    "        print(match)\n",
    "\n",
    "    matches_detention = pattern_detention.findall(line)\n",
    "    for match in matches_detention:\n",
    "        years, months, days = match\n",
    "        print(match)\n",
    "        \n"
   ]
  },
  {
   "cell_type": "code",
   "execution_count": null,
   "metadata": {},
   "outputs": [],
   "source": [
    "\n"
   ]
  }
 ],
 "metadata": {
  "kernelspec": {
   "display_name": "Python 3",
   "language": "python",
   "name": "python3"
  },
  "language_info": {
   "codemirror_mode": {
    "name": "ipython",
    "version": 3
   },
   "file_extension": ".py",
   "mimetype": "text/x-python",
   "name": "python",
   "nbconvert_exporter": "python",
   "pygments_lexer": "ipython3",
   "version": "3.11.5"
  }
 },
 "nbformat": 4,
 "nbformat_minor": 2
}
