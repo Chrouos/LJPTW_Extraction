{
 "cells": [
  {
   "cell_type": "code",
   "execution_count": 1,
   "metadata": {},
   "outputs": [
    {
     "name": "stdout",
     "output_type": "stream",
     "text": [
      "Here is Running by Mode.FORMAL_EXPECT_PROBLEM mode\n"
     ]
    },
    {
     "name": "stderr",
     "output_type": "stream",
     "text": [
      "Load Data: all_data.json: 0it [00:00, ?it/s]\n",
      "Load Data: filter_data.json: 0it [00:00, ?it/s]\n"
     ]
    }
   ],
   "source": [
    "from tools.processAILA import ProcessAILA\n",
    "processData = ProcessAILA(\n",
    "    source_path='./data/data_org/',\n",
    "    save_path='./data/processed/',\n",
    "    mode=None,\n",
    "    limit_counts=None,\n",
    "    isRandomData=True\n",
    ")"
   ]
  },
  {
   "cell_type": "code",
   "execution_count": 2,
   "metadata": {},
   "outputs": [
    {
     "name": "stdout",
     "output_type": "stream",
     "text": [
      "[countLength_source] Done!\n",
      "Save file to: ./data/processed/countLength_source.txt\n"
     ]
    }
   ],
   "source": [
    "# @ 計算初始總筆數\n",
    "processData.countLength_source()"
   ]
  },
  {
   "cell_type": "code",
   "execution_count": 3,
   "metadata": {},
   "outputs": [
    {
     "name": "stderr",
     "output_type": "stream",
     "text": [
      "Processing 士林地方檢察署: 100%|██████████| 1/1 [00:21<00:00, 21.31s/it]\n",
      "Load Data: all_data.json: 100%|██████████| 15751/15751 [00:01<00:00, 12777.69it/s]"
     ]
    },
    {
     "name": "stdout",
     "output_type": "stream",
     "text": [
      "[TWLJP_JSON] Done!\n",
      "Save file to: ./data/processed//TWLJP/all_data.json\n"
     ]
    },
    {
     "name": "stderr",
     "output_type": "stream",
     "text": [
      "\n"
     ]
    }
   ],
   "source": [
    "# @ 負責處理擷取資訊，以及將資訊儲存到 log\n",
    "processData.TWLJP_JSON()"
   ]
  },
  {
   "cell_type": "code",
   "execution_count": 4,
   "metadata": {},
   "outputs": [
    {
     "name": "stderr",
     "output_type": "stream",
     "text": [
      "counting_status: 100%|██████████| 15751/15751 [00:24<00:00, 650.15it/s]"
     ]
    },
    {
     "name": "stdout",
     "output_type": "stream",
     "text": [
      "[counting_status] Done!\n"
     ]
    },
    {
     "name": "stderr",
     "output_type": "stream",
     "text": [
      "\n"
     ]
    }
   ],
   "source": [
    "# @ 計算處理前資訊\n",
    "processData.counting_status(\"all_data.json\", save_dir=\"statistics/ori/\")"
   ]
  },
  {
   "cell_type": "code",
   "execution_count": 5,
   "metadata": {},
   "outputs": [
    {
     "name": "stderr",
     "output_type": "stream",
     "text": [
      "filter_TWLJP (1/2): 100%|██████████| 15751/15751 [00:00<00:00, 695525.42it/s]"
     ]
    },
    {
     "name": "stderr",
     "output_type": "stream",
     "text": [
      "\n",
      "Load Data: filter_data.json: 100%|██████████| 7987/7987 [00:00<00:00, 11613.00it/s]\n",
      "Load Data: filter_data.json: 100%|██████████| 7987/7987 [00:00<00:00, 9126.92it/s] \n",
      "counting_status: 100%|██████████| 7987/7987 [00:11<00:00, 713.73it/s]\n"
     ]
    },
    {
     "name": "stdout",
     "output_type": "stream",
     "text": [
      "[counting_status] Done!\n"
     ]
    },
    {
     "name": "stderr",
     "output_type": "stream",
     "text": [
      "filter_TWLJP (2/2) :1: 100%|██████████| 7987/7987 [00:01<00:00, 7748.62it/s]\n",
      "Load Data: filter_data.json: 100%|██████████| 7144/7144 [00:00<00:00, 9716.55it/s] \n",
      "counting_status: 100%|██████████| 7144/7144 [00:09<00:00, 747.35it/s]\n"
     ]
    },
    {
     "name": "stdout",
     "output_type": "stream",
     "text": [
      "[counting_status] Done!\n"
     ]
    },
    {
     "name": "stderr",
     "output_type": "stream",
     "text": [
      "filter_TWLJP (2/2) :2: 100%|██████████| 7144/7144 [00:00<00:00, 23263.10it/s]\n",
      "Load Data: filter_data.json: 100%|██████████| 7033/7033 [00:00<00:00, 10548.92it/s]\n",
      "counting_status: 100%|██████████| 7033/7033 [00:09<00:00, 773.74it/s]\n"
     ]
    },
    {
     "name": "stdout",
     "output_type": "stream",
     "text": [
      "[counting_status] Done!\n"
     ]
    },
    {
     "name": "stderr",
     "output_type": "stream",
     "text": [
      "filter_TWLJP (2/2) :3: 100%|██████████| 7033/7033 [00:00<00:00, 24089.07it/s]\n",
      "Load Data: filter_data.json: 100%|██████████| 7018/7018 [00:00<00:00, 10520.00it/s]\n",
      "counting_status: 100%|██████████| 7018/7018 [00:08<00:00, 812.00it/s]\n"
     ]
    },
    {
     "name": "stdout",
     "output_type": "stream",
     "text": [
      "[counting_status] Done!\n",
      "[filter_TWLJP] 從 filter_data.json 中，過濾資料: 15751 -> 7018  ( 刪掉 -8733)\n"
     ]
    },
    {
     "name": "stderr",
     "output_type": "stream",
     "text": [
      "Load Data: filter_data.json: 100%|██████████| 7018/7018 [00:00<00:00, 10540.45it/s]"
     ]
    },
    {
     "name": "stdout",
     "output_type": "stream",
     "text": [
      "[filter_TWLJP] Done!\n",
      "Save file to: ./data/processed//TWLJP/filter_data.json\n",
      "Save file to: ./data/processed/filter_result.txt\n"
     ]
    },
    {
     "name": "stderr",
     "output_type": "stream",
     "text": [
      "\n"
     ]
    }
   ],
   "source": [
    "# @ 篩選資料\n",
    "processData.filter_TWLJP([{\"name\": \"article\", \"number\": 30}, {\"name\": \"charges\", \"number\": 30}], \"all_data.json\", reference_dir=\"statistics/filter/\")"
   ]
  },
  {
   "cell_type": "code",
   "execution_count": 6,
   "metadata": {},
   "outputs": [
    {
     "name": "stderr",
     "output_type": "stream",
     "text": [
      "Load Data: filter_data.json: 100%|██████████| 7018/7018 [00:00<00:00, 15863.62it/s]\n",
      "category_data: 100%|██████████| 7018/7018 [00:00<00:00, 1849668.56it/s]\n",
      "Load Data: category/TWLJP_1.json: 100%|██████████| 6937/6937 [00:00<00:00, 10471.71it/s]\n",
      "Load Data: category/TWLJP_1.json: 100%|██████████| 6937/6937 [00:00<00:00, 9038.34it/s] \n",
      "counting_status: 100%|██████████| 6937/6937 [00:08<00:00, 811.48it/s]\n"
     ]
    },
    {
     "name": "stdout",
     "output_type": "stream",
     "text": [
      "[counting_status] Done!\n"
     ]
    },
    {
     "name": "stderr",
     "output_type": "stream",
     "text": [
      "Load Data: category/TWLJP_2.json: 100%|██████████| 5949/5949 [00:00<00:00, 14577.53it/s]\n",
      "Load Data: category/TWLJP_2.json: 100%|██████████| 5949/5949 [00:00<00:00, 15047.59it/s]\n",
      "counting_status: 100%|██████████| 5949/5949 [00:07<00:00, 829.46it/s]\n"
     ]
    },
    {
     "name": "stdout",
     "output_type": "stream",
     "text": [
      "[counting_status] Done!\n"
     ]
    },
    {
     "name": "stderr",
     "output_type": "stream",
     "text": [
      "filter_TWLJP (2/2) :1: 100%|██████████| 5949/5949 [00:00<00:00, 24095.56it/s]\n",
      "Load Data: category/TWLJP_2.json: 100%|██████████| 5888/5888 [00:00<00:00, 8112.22it/s] \n",
      "Load Data: category/TWLJP_2.json: 100%|██████████| 5888/5888 [00:00<00:00, 15388.88it/s]\n",
      "counting_status: 100%|██████████| 5888/5888 [00:07<00:00, 806.64it/s]\n"
     ]
    },
    {
     "name": "stdout",
     "output_type": "stream",
     "text": [
      "[counting_status] Done!\n"
     ]
    },
    {
     "name": "stderr",
     "output_type": "stream",
     "text": [
      "filter_TWLJP (2/2) :2: 100%|██████████| 5888/5888 [00:00<00:00, 23292.41it/s]\n",
      "Load Data: category/TWLJP_2.json: 100%|██████████| 5868/5868 [00:00<00:00, 8966.15it/s] \n",
      "Load Data: category/TWLJP_2.json: 100%|██████████| 5868/5868 [00:00<00:00, 14943.69it/s]\n",
      "counting_status: 100%|██████████| 5868/5868 [00:07<00:00, 803.71it/s]\n"
     ]
    },
    {
     "name": "stdout",
     "output_type": "stream",
     "text": [
      "[counting_status] Done!\n"
     ]
    },
    {
     "name": "stderr",
     "output_type": "stream",
     "text": [
      "Load Data: category/TWLJP_3.json: 100%|██████████| 455/455 [00:00<00:00, 23090.80it/s]\n",
      "Load Data: category/TWLJP_3.json: 100%|██████████| 455/455 [00:00<00:00, 24252.54it/s]\n",
      "counting_status: 100%|██████████| 455/455 [00:00<00:00, 865.78it/s]\n"
     ]
    },
    {
     "name": "stdout",
     "output_type": "stream",
     "text": [
      "[counting_status] Done!\n"
     ]
    },
    {
     "name": "stderr",
     "output_type": "stream",
     "text": [
      "filter_TWLJP (2/2) :1: 100%|██████████| 455/455 [00:00<00:00, 26926.02it/s]\n",
      "Load Data: category/TWLJP_3.json: 100%|██████████| 388/388 [00:00<00:00, 22558.15it/s]\n",
      "Load Data: category/TWLJP_3.json: 100%|██████████| 388/388 [00:00<00:00, 22638.80it/s]\n",
      "counting_status: 100%|██████████| 388/388 [00:00<00:00, 867.89it/s]\n"
     ]
    },
    {
     "name": "stdout",
     "output_type": "stream",
     "text": [
      "[counting_status] Done!\n"
     ]
    },
    {
     "name": "stderr",
     "output_type": "stream",
     "text": [
      "Load Data: category/TWLJP_4.json: 100%|██████████| 533/533 [00:00<00:00, 20818.80it/s]\n",
      "Load Data: category/TWLJP_4.json: 100%|██████████| 533/533 [00:00<00:00, 17988.56it/s]\n",
      "counting_status: 100%|██████████| 533/533 [00:00<00:00, 881.27it/s]\n"
     ]
    },
    {
     "name": "stdout",
     "output_type": "stream",
     "text": [
      "[counting_status] Done!\n"
     ]
    },
    {
     "name": "stderr",
     "output_type": "stream",
     "text": [
      "filter_TWLJP (2/2) :1: 100%|██████████| 533/533 [00:00<00:00, 27194.00it/s]\n",
      "Load Data: category/TWLJP_4.json: 100%|██████████| 492/492 [00:00<00:00, 21125.88it/s]\n",
      "Load Data: category/TWLJP_4.json: 100%|██████████| 492/492 [00:00<00:00, 1917.93it/s]\n",
      "counting_status: 100%|██████████| 492/492 [00:00<00:00, 870.71it/s]"
     ]
    },
    {
     "name": "stdout",
     "output_type": "stream",
     "text": [
      "[counting_status] Done!\n",
      "[category_data] Done!\n"
     ]
    },
    {
     "name": "stderr",
     "output_type": "stream",
     "text": [
      "\n"
     ]
    }
   ],
   "source": [
    "# @ 分類 TWLJP: 1, 2, 3\n",
    "processData.category_data(file_name=\"filter_data.json\", is_filter=True)"
   ]
  },
  {
   "cell_type": "code",
   "execution_count": null,
   "metadata": {},
   "outputs": [],
   "source": []
  },
  {
   "cell_type": "code",
   "execution_count": null,
   "metadata": {},
   "outputs": [],
   "source": []
  }
 ],
 "metadata": {
  "kernelspec": {
   "display_name": "Python 3",
   "language": "python",
   "name": "python3"
  },
  "language_info": {
   "codemirror_mode": {
    "name": "ipython",
    "version": 3
   },
   "file_extension": ".py",
   "mimetype": "text/x-python",
   "name": "python",
   "nbconvert_exporter": "python",
   "pygments_lexer": "ipython3",
   "version": "3.0.0"
  }
 },
 "nbformat": 4,
 "nbformat_minor": 2
}
