{
 "cells": [
  {
   "cell_type": "code",
   "execution_count": 1,
   "metadata": {},
   "outputs": [
    {
     "name": "stdout",
     "output_type": "stream",
     "text": [
      "Here is Running by Mode.FORMAL_EXPECT_PROBLEM mode\n"
     ]
    },
    {
     "name": "stderr",
     "output_type": "stream",
     "text": [
      "Load Data: all_data.json: 0it [00:00, ?it/s]\n",
      "Load Data: filter_data.json: 0it [00:00, ?it/s]\n"
     ]
    }
   ],
   "source": [
    "from tools.processAILA import ProcessAILA\n",
    "processData = ProcessAILA(\n",
    "    source_path='./data/data_test/',\n",
    "    save_path='./data/processed/',\n",
    "    mode=None,\n",
    "    limit_counts=None,\n",
    "    isRandomData=True\n",
    ")"
   ]
  },
  {
   "cell_type": "code",
   "execution_count": 2,
   "metadata": {},
   "outputs": [
    {
     "name": "stdout",
     "output_type": "stream",
     "text": [
      "[countLength_source] Done!\n",
      "Save file to: ./data/processed/countLength_source.txt\n"
     ]
    }
   ],
   "source": [
    "# @ 計算初始總筆數\n",
    "processData.countLength_source()"
   ]
  },
  {
   "cell_type": "code",
   "execution_count": 3,
   "metadata": {},
   "outputs": [
    {
     "name": "stderr",
     "output_type": "stream",
     "text": [
      "Processing 士林地方檢察署:   0%|          | 0/1 [00:00<?, ?it/s]"
     ]
    }
   ],
   "source": [
    "# @ 負責處理擷取資訊，以及將資訊儲存到 log\n",
    "processData.TWLJP_JSON()"
   ]
  },
  {
   "cell_type": "code",
   "execution_count": null,
   "metadata": {},
   "outputs": [
    {
     "name": "stderr",
     "output_type": "stream",
     "text": [
      "counting_status: 100%|██████████| 15751/15751 [00:26<00:00, 587.94it/s]"
     ]
    },
    {
     "name": "stdout",
     "output_type": "stream",
     "text": [
      "[counting_status] Done!\n"
     ]
    },
    {
     "name": "stderr",
     "output_type": "stream",
     "text": [
      "\n"
     ]
    }
   ],
   "source": [
    "# @ 計算處理前資訊\n",
    "processData.counting_status(\"all_data.json\", save_dir=\"statistics/ori/\")"
   ]
  },
  {
   "cell_type": "code",
   "execution_count": null,
   "metadata": {},
   "outputs": [
    {
     "name": "stderr",
     "output_type": "stream",
     "text": [
      "counting_status: 100%|██████████| 12098/12098 [00:14<00:00, 821.75it/s]"
     ]
    },
    {
     "name": "stdout",
     "output_type": "stream",
     "text": [
      "[counting_status] Done!\n"
     ]
    },
    {
     "name": "stderr",
     "output_type": "stream",
     "text": [
      "\n"
     ]
    }
   ],
   "source": [
    "processData.counting_status(\"filter_data.json\", save_dir=\"statistics/filter/\")"
   ]
  },
  {
   "cell_type": "code",
   "execution_count": null,
   "metadata": {},
   "outputs": [
    {
     "name": "stderr",
     "output_type": "stream",
     "text": [
      "filter_TWLJP (1/2): 100%|██████████| 15751/15751 [00:00<00:00, 111107.25it/s]\n",
      "Load Data: filter_data.json: 100%|██████████| 14096/14096 [00:01<00:00, 10123.09it/s]\n",
      "counting_status: 100%|██████████| 14096/14096 [00:23<00:00, 601.29it/s]\n"
     ]
    },
    {
     "name": "stdout",
     "output_type": "stream",
     "text": [
      "[counting_status] Done!\n"
     ]
    },
    {
     "name": "stderr",
     "output_type": "stream",
     "text": [
      "Load Data: filter_data.json: 100%|██████████| 14096/14096 [00:01<00:00, 8449.92it/s] \n",
      "filter_TWLJP (2/2) :1: 100%|██████████| 14096/14096 [00:00<00:00, 998309.93it/s]\n",
      "Load Data: filter_data.json: 100%|██████████| 12455/12455 [00:01<00:00, 9969.48it/s] \n",
      "counting_status: 100%|██████████| 12455/12455 [00:15<00:00, 804.27it/s]\n"
     ]
    },
    {
     "name": "stdout",
     "output_type": "stream",
     "text": [
      "[counting_status] Done!\n"
     ]
    },
    {
     "name": "stderr",
     "output_type": "stream",
     "text": [
      "Load Data: filter_data.json: 100%|██████████| 12455/12455 [00:00<00:00, 14067.20it/s]\n",
      "filter_TWLJP (2/2) :2: 100%|██████████| 12455/12455 [00:00<00:00, 971149.17it/s]\n",
      "Load Data: filter_data.json: 100%|██████████| 12137/12137 [00:01<00:00, 8410.15it/s] \n",
      "counting_status: 100%|██████████| 12137/12137 [00:14<00:00, 833.42it/s]\n"
     ]
    },
    {
     "name": "stdout",
     "output_type": "stream",
     "text": [
      "[counting_status] Done!\n"
     ]
    },
    {
     "name": "stderr",
     "output_type": "stream",
     "text": [
      "Load Data: filter_data.json: 100%|██████████| 12137/12137 [00:01<00:00, 6914.52it/s]\n",
      "filter_TWLJP (2/2) :3: 100%|██████████| 12137/12137 [00:00<00:00, 1125373.44it/s]\n",
      "Load Data: filter_data.json: 100%|██████████| 12098/12098 [00:01<00:00, 7290.68it/s]\n",
      "counting_status: 100%|██████████| 12098/12098 [00:15<00:00, 800.98it/s]\n"
     ]
    },
    {
     "name": "stdout",
     "output_type": "stream",
     "text": [
      "[counting_status] Done!\n"
     ]
    },
    {
     "name": "stderr",
     "output_type": "stream",
     "text": [
      "Load Data: filter_data.json: 100%|██████████| 12098/12098 [00:01<00:00, 7587.52it/s] "
     ]
    },
    {
     "name": "stdout",
     "output_type": "stream",
     "text": [
      "[filter_TWLJP] Done!\n",
      "Save file to: ./data/processed//TWLJP/filter_data.json\n",
      "Save file to: ./data/processed/filter_result.txt\n"
     ]
    },
    {
     "name": "stderr",
     "output_type": "stream",
     "text": [
      "\n"
     ]
    }
   ],
   "source": [
    "# @ 篩選資料\n",
    "processData.filter_TWLJP([{\"name\": \"article\", \"number\": 30}, {\"name\": \"charges\", \"number\": 30}], \"all_data.json\", reference_dir=\"statistics/filter/\")"
   ]
  },
  {
   "cell_type": "code",
   "execution_count": null,
   "metadata": {},
   "outputs": [
    {
     "name": "stderr",
     "output_type": "stream",
     "text": [
      "Load Data: filter_data.json: 100%|██████████| 12098/12098 [00:01<00:00, 11932.61it/s]\n",
      "category_data: 100%|██████████| 12098/12098 [00:00<00:00, 1809976.45it/s]\n",
      "Load Data: category/TWLJP_1.json: 100%|██████████| 10110/10110 [00:01<00:00, 9639.34it/s]\n",
      "counting_status: 100%|██████████| 10110/10110 [00:15<00:00, 659.45it/s]\n"
     ]
    },
    {
     "name": "stdout",
     "output_type": "stream",
     "text": [
      "[counting_status] Done!\n"
     ]
    },
    {
     "name": "stderr",
     "output_type": "stream",
     "text": [
      "Load Data: category/TWLJP_2.json: 100%|██████████| 8712/8712 [00:01<00:00, 6691.09it/s] \n",
      "counting_status: 100%|██████████| 8712/8712 [00:11<00:00, 746.43it/s]\n"
     ]
    },
    {
     "name": "stdout",
     "output_type": "stream",
     "text": [
      "[counting_status] Done!\n"
     ]
    },
    {
     "name": "stderr",
     "output_type": "stream",
     "text": [
      "Load Data: category/TWLJP_3.json: 100%|██████████| 646/646 [00:00<00:00, 20732.90it/s]\n",
      "counting_status: 100%|██████████| 646/646 [00:00<00:00, 782.54it/s]\n"
     ]
    },
    {
     "name": "stdout",
     "output_type": "stream",
     "text": [
      "[counting_status] Done!\n"
     ]
    },
    {
     "name": "stderr",
     "output_type": "stream",
     "text": [
      "Load Data: category/TWLJP_4.json: 100%|██████████| 752/752 [00:00<00:00, 21914.54it/s]\n",
      "counting_status: 100%|██████████| 752/752 [00:00<00:00, 812.06it/s]\n"
     ]
    },
    {
     "name": "stdout",
     "output_type": "stream",
     "text": [
      "[counting_status] Done!\n",
      "[category_data] Done!\n"
     ]
    }
   ],
   "source": [
    "# @ 分類 TWLJP: 1, 2, 3\n",
    "processData.category_data(file_name=\"filter_data.json\")"
   ]
  },
  {
   "cell_type": "code",
   "execution_count": null,
   "metadata": {},
   "outputs": [
    {
     "name": "stdout",
     "output_type": "stream",
     "text": [
      "{'刑法第185條之3': 3646, '刑法第284條': 1884, '毒品危害防制條例第10條': 1821, '刑法第320條': 1645, '刑法第339條': 635, '刑法第277條': 417, '洗錢防制法第14條': 343, '刑法第30條': 341, '刑法第309條': 274, '刑法第321條': 267, '刑法第339條之4': 257, '毒品危害防制條例第11條': 209, '刑法第354條': 193, '刑法第305條': 122, '刑法第337條': 108, '詐欺第339條': 108, '洗錢防制法第2條': 106, '毒品危害防制條例第4條': 103, '刑法第185條之4': 70, '公共危險第185條之3': 66, '商標法第97條': 66, '刑法第310條': 62, '刑法第336條': 53, '刑法第268條': 49, '竊盜第320條': 48, '刑法第140條': 38, '性騷擾防治法第25條': 37, '陸海空軍刑法第54條': 36, '刑法第216條': 35, '刑法第210條': 35, '刑法第304條': 34, '組織犯罪防制條例第3條': 33, '刑法第135條': 33, 'TOTAL': 13174}\n",
      "{'不能安全駕駛': 3712, '毒品防制條例': 2064, '竊盜': 1872, '詐欺': 917, '交通過失傷害': 728, '非駕業務傷害': 632, '傷害': 417, '妨害名譽': 260, '過失傷害': 252, '妨害自由': 200, '侵占': 191, '駕駛業務傷害': 152, '肇事逃逸': 137, '毀棄損壞': 123, '商標法': 66, '妨害公務': 58, '賭博': 49, '性騷擾防治法': 37, '偽造文書': 35, 'TOTAL': 11902}\n"
     ]
    }
   ],
   "source": [
    "di = [{\"name\": \"article\", \"number\": 30}, {\"name\": \"charges\", \"number\": 30}]\n",
    "for i in di:\n",
    "    temp = processData.load_status_data(i['name'], 'statistics/filter/')\n",
    "    print(temp)"
   ]
  },
  {
   "cell_type": "code",
   "execution_count": null,
   "metadata": {},
   "outputs": [],
   "source": []
  }
 ],
 "metadata": {
  "kernelspec": {
   "display_name": "Python 3",
   "language": "python",
   "name": "python3"
  },
  "language_info": {
   "codemirror_mode": {
    "name": "ipython",
    "version": 3
   },
   "file_extension": ".py",
   "mimetype": "text/x-python",
   "name": "python",
   "nbconvert_exporter": "python",
   "pygments_lexer": "ipython3",
   "version": "3.11.5"
  }
 },
 "nbformat": 4,
 "nbformat_minor": 2
}
