{
 "cells": [
  {
   "cell_type": "code",
   "execution_count": 1,
   "metadata": {},
   "outputs": [
    {
     "name": "stdout",
     "output_type": "stream",
     "text": [
      "Here is Running by Mode.FORMAL_EXPECT_PROBLEM mode\n"
     ]
    },
    {
     "name": "stderr",
     "output_type": "stream",
     "text": [
      "Load Data: all_data.json: 100%|██████████| 15751/15751 [00:01<00:00, 14266.87it/s]\n",
      "Load Data: filter_data.json: 100%|██████████| 7018/7018 [00:00<00:00, 11812.75it/s]\n"
     ]
    }
   ],
   "source": [
    "from tools.processAILA import ProcessAILA\n",
    "processData = ProcessAILA(\n",
    "    source_path='./data/data_test/',\n",
    "    save_path='./data/processed/',\n",
    "    mode=None,\n",
    "    limit_counts=None,\n",
    "    isRandomData=True\n",
    ")"
   ]
  },
  {
   "cell_type": "code",
   "execution_count": 2,
   "metadata": {},
   "outputs": [],
   "source": [
    "# @ 計算初始總筆數\n",
    "processData.countLength_source()"
   ]
  },
  {
   "cell_type": "code",
   "execution_count": 3,
   "metadata": {},
   "outputs": [],
   "source": [
    "# @ 負責處理擷取資訊，以及將資訊儲存到 log\n",
    "processData.TWLJP_JSON()"
   ]
  },
  {
   "cell_type": "code",
   "execution_count": 4,
   "metadata": {},
   "outputs": [],
   "source": [
    "# @ 計算處理前資訊\n",
    "processData.counting_status(\"all_data.json\", save_dir=\"statistics/ori/\")"
   ]
  },
  {
   "cell_type": "code",
   "execution_count": 5,
   "metadata": {},
   "outputs": [
    {
     "name": "stderr",
     "output_type": "stream",
     "text": [
      "filter_TWLJP (1/2):   0%|          | 0/15751 [00:00<?, ?it/s]"
     ]
    },
    {
     "name": "stderr",
     "output_type": "stream",
     "text": [
      "filter_TWLJP (1/2): 100%|██████████| 15751/15751 [00:00<00:00, 1246734.90it/s]\n",
      "Load Data: filter_data.json: 100%|██████████| 7987/7987 [00:00<00:00, 9160.23it/s] \n",
      "Load Data: filter_data.json: 100%|██████████| 7987/7987 [00:00<00:00, 9787.19it/s] \n",
      "counting_status: 100%|██████████| 7987/7987 [00:11<00:00, 700.83it/s]\n"
     ]
    },
    {
     "name": "stdout",
     "output_type": "stream",
     "text": [
      "[counting_status] Done!\n"
     ]
    },
    {
     "name": "stderr",
     "output_type": "stream",
     "text": [
      "filter_TWLJP (2/2) :1: 100%|██████████| 7987/7987 [00:01<00:00, 7951.79it/s]\n",
      "Load Data: filter_data.json: 100%|██████████| 7144/7144 [00:00<00:00, 9560.89it/s] \n",
      "counting_status: 100%|██████████| 7144/7144 [00:08<00:00, 839.40it/s]\n"
     ]
    },
    {
     "name": "stdout",
     "output_type": "stream",
     "text": [
      "[counting_status] Done!\n"
     ]
    },
    {
     "name": "stderr",
     "output_type": "stream",
     "text": [
      "filter_TWLJP (2/2) :2: 100%|██████████| 7144/7144 [00:00<00:00, 21733.36it/s]\n",
      "Load Data: filter_data.json: 100%|██████████| 7033/7033 [00:00<00:00, 9459.27it/s] \n",
      "counting_status: 100%|██████████| 7033/7033 [00:08<00:00, 801.52it/s]\n"
     ]
    },
    {
     "name": "stdout",
     "output_type": "stream",
     "text": [
      "[counting_status] Done!\n"
     ]
    },
    {
     "name": "stderr",
     "output_type": "stream",
     "text": [
      "filter_TWLJP (2/2) :3: 100%|██████████| 7033/7033 [00:00<00:00, 21060.80it/s]\n",
      "Load Data: filter_data.json: 100%|██████████| 7018/7018 [00:00<00:00, 10289.88it/s]\n",
      "counting_status: 100%|██████████| 7018/7018 [00:08<00:00, 838.88it/s]\n"
     ]
    },
    {
     "name": "stdout",
     "output_type": "stream",
     "text": [
      "[counting_status] Done!\n",
      "[filter_TWLJP] 從 filter_data.json 中，過濾資料: 15751 -> 7972  ( 刪掉 -7779)\n"
     ]
    },
    {
     "name": "stderr",
     "output_type": "stream",
     "text": [
      "Load Data: filter_data.json: 100%|██████████| 7018/7018 [00:00<00:00, 15177.20it/s]"
     ]
    },
    {
     "name": "stdout",
     "output_type": "stream",
     "text": [
      "[filter_TWLJP] Done!\n",
      "Save file to: ./data/processed//TWLJP/filter_data.json\n",
      "Save file to: ./data/processed/filter_result.txt\n"
     ]
    },
    {
     "name": "stderr",
     "output_type": "stream",
     "text": [
      "\n"
     ]
    }
   ],
   "source": [
    "# @ 篩選資料\n",
    "processData.filter_TWLJP([{\"name\": \"article\", \"number\": 30}, {\"name\": \"charges\", \"number\": 30}], \"all_data.json\", reference_dir=\"statistics/filter/\")"
   ]
  },
  {
   "cell_type": "code",
   "execution_count": 2,
   "metadata": {},
   "outputs": [
    {
     "name": "stderr",
     "output_type": "stream",
     "text": [
      "Load Data: filter_data.json: 100%|██████████| 7018/7018 [00:00<00:00, 10232.92it/s]\n",
      "category_data: 100%|██████████| 7018/7018 [00:00<00:00, 1325630.51it/s]\n",
      "Load Data: category/TWLJP_1.json: 100%|██████████| 6937/6937 [00:00<00:00, 9489.66it/s] \n",
      "counting_status: 100%|██████████| 6937/6937 [00:07<00:00, 868.85it/s]\n"
     ]
    },
    {
     "name": "stdout",
     "output_type": "stream",
     "text": [
      "[counting_status] Done!\n"
     ]
    },
    {
     "name": "stderr",
     "output_type": "stream",
     "text": [
      "Load Data: category/TWLJP_1.json: 100%|██████████| 6937/6937 [00:00<00:00, 8934.89it/s] \n",
      "Load Data: category/TWLJP_1.json: 100%|██████████| 6937/6937 [00:00<00:00, 15773.72it/s]\n",
      "counting_status: 100%|██████████| 6937/6937 [00:07<00:00, 868.96it/s]\n"
     ]
    },
    {
     "name": "stdout",
     "output_type": "stream",
     "text": [
      "[counting_status] Done!\n"
     ]
    },
    {
     "name": "stderr",
     "output_type": "stream",
     "text": [
      "Load Data: category/TWLJP_2.json: 100%|██████████| 5949/5949 [00:00<00:00, 8221.61it/s] \n",
      "counting_status: 100%|██████████| 5949/5949 [00:06<00:00, 853.02it/s]\n"
     ]
    },
    {
     "name": "stdout",
     "output_type": "stream",
     "text": [
      "[counting_status] Done!\n"
     ]
    },
    {
     "name": "stderr",
     "output_type": "stream",
     "text": [
      "Load Data: category/TWLJP_2.json: 100%|██████████| 5949/5949 [00:00<00:00, 15933.01it/s]\n",
      "Load Data: category/TWLJP_2.json: 100%|██████████| 5949/5949 [00:00<00:00, 7757.76it/s] \n",
      "counting_status: 100%|██████████| 5949/5949 [00:06<00:00, 854.60it/s]\n"
     ]
    },
    {
     "name": "stdout",
     "output_type": "stream",
     "text": [
      "[counting_status] Done!\n"
     ]
    },
    {
     "name": "stderr",
     "output_type": "stream",
     "text": [
      "filter_TWLJP (2/2) :1: 100%|██████████| 5949/5949 [00:00<00:00, 23424.50it/s]\n",
      "Load Data: category/TWLJP_2.json: 100%|██████████| 5888/5888 [00:00<00:00, 12885.09it/s]\n",
      "Load Data: category/TWLJP_2.json: 100%|██████████| 5888/5888 [00:00<00:00, 12327.63it/s]\n",
      "counting_status: 100%|██████████| 5888/5888 [00:07<00:00, 787.67it/s]\n"
     ]
    },
    {
     "name": "stdout",
     "output_type": "stream",
     "text": [
      "[counting_status] Done!\n"
     ]
    },
    {
     "name": "stderr",
     "output_type": "stream",
     "text": [
      "filter_TWLJP (2/2) :2: 100%|██████████| 5888/5888 [00:00<00:00, 25092.04it/s]\n",
      "Load Data: category/TWLJP_2.json: 100%|██████████| 5868/5868 [00:01<00:00, 5763.69it/s]\n",
      "Load Data: category/TWLJP_2.json: 100%|██████████| 5868/5868 [00:00<00:00, 13068.96it/s]\n",
      "counting_status: 100%|██████████| 5868/5868 [00:06<00:00, 846.36it/s]\n"
     ]
    },
    {
     "name": "stdout",
     "output_type": "stream",
     "text": [
      "[counting_status] Done!\n"
     ]
    },
    {
     "name": "stderr",
     "output_type": "stream",
     "text": [
      "Load Data: category/TWLJP_3.json: 100%|██████████| 455/455 [00:00<00:00, 23541.12it/s]\n",
      "counting_status: 100%|██████████| 455/455 [00:00<00:00, 890.13it/s]\n"
     ]
    },
    {
     "name": "stdout",
     "output_type": "stream",
     "text": [
      "[counting_status] Done!\n"
     ]
    },
    {
     "name": "stderr",
     "output_type": "stream",
     "text": [
      "Load Data: category/TWLJP_3.json: 100%|██████████| 455/455 [00:00<00:00, 20957.24it/s]\n",
      "Load Data: category/TWLJP_3.json: 100%|██████████| 455/455 [00:00<00:00, 20851.45it/s]\n",
      "counting_status: 100%|██████████| 455/455 [00:00<00:00, 896.88it/s]\n"
     ]
    },
    {
     "name": "stdout",
     "output_type": "stream",
     "text": [
      "[counting_status] Done!\n"
     ]
    },
    {
     "name": "stderr",
     "output_type": "stream",
     "text": [
      "filter_TWLJP (2/2) :1: 100%|██████████| 455/455 [00:00<00:00, 27172.53it/s]\n",
      "Load Data: category/TWLJP_3.json: 100%|██████████| 388/388 [00:00<00:00, 22379.47it/s]\n",
      "Load Data: category/TWLJP_3.json: 100%|██████████| 388/388 [00:00<00:00, 1248.84it/s]\n",
      "counting_status: 100%|██████████| 388/388 [00:00<00:00, 792.32it/s]\n"
     ]
    },
    {
     "name": "stdout",
     "output_type": "stream",
     "text": [
      "[counting_status] Done!\n"
     ]
    },
    {
     "name": "stderr",
     "output_type": "stream",
     "text": [
      "Load Data: category/TWLJP_4.json: 100%|██████████| 533/533 [00:00<00:00, 16820.64it/s]\n",
      "counting_status: 100%|██████████| 533/533 [00:00<00:00, 910.48it/s]\n"
     ]
    },
    {
     "name": "stdout",
     "output_type": "stream",
     "text": [
      "[counting_status] Done!\n"
     ]
    },
    {
     "name": "stderr",
     "output_type": "stream",
     "text": [
      "Load Data: category/TWLJP_4.json: 100%|██████████| 533/533 [00:00<00:00, 18331.96it/s]\n",
      "Load Data: category/TWLJP_4.json: 100%|██████████| 533/533 [00:00<00:00, 17532.32it/s]\n",
      "counting_status: 100%|██████████| 533/533 [00:00<00:00, 854.27it/s]\n"
     ]
    },
    {
     "name": "stdout",
     "output_type": "stream",
     "text": [
      "[counting_status] Done!\n"
     ]
    },
    {
     "name": "stderr",
     "output_type": "stream",
     "text": [
      "filter_TWLJP (2/2) :1: 100%|██████████| 533/533 [00:00<00:00, 25436.51it/s]\n"
     ]
    },
    {
     "ename": "FileNotFoundError",
     "evalue": "[Errno 2] No such file or directory: './data/processed/TWLJP/category/TWLJP_4/category/TWLJP_4.json'",
     "output_type": "error",
     "traceback": [
      "\u001b[0;31m---------------------------------------------------------------------------\u001b[0m",
      "\u001b[0;31mFileNotFoundError\u001b[0m                         Traceback (most recent call last)",
      "Cell \u001b[0;32mIn[2], line 2\u001b[0m\n\u001b[1;32m      1\u001b[0m \u001b[38;5;66;03m# @ 分類 TWLJP: 1, 2, 3\u001b[39;00m\n\u001b[0;32m----> 2\u001b[0m \u001b[43mprocessData\u001b[49m\u001b[38;5;241;43m.\u001b[39;49m\u001b[43mcategory_data\u001b[49m\u001b[43m(\u001b[49m\u001b[43mfile_name\u001b[49m\u001b[38;5;241;43m=\u001b[39;49m\u001b[38;5;124;43m\"\u001b[39;49m\u001b[38;5;124;43mfilter_data.json\u001b[39;49m\u001b[38;5;124;43m\"\u001b[39;49m\u001b[43m,\u001b[49m\u001b[43m \u001b[49m\u001b[43mis_filter\u001b[49m\u001b[38;5;241;43m=\u001b[39;49m\u001b[38;5;28;43;01mTrue\u001b[39;49;00m\u001b[43m)\u001b[49m\n",
      "File \u001b[0;32m~/Documents/NCU/WIDM/AILA/New/LJPTW_Extraction/tools/processAILA.py:606\u001b[0m, in \u001b[0;36mProcessAILA.category_data\u001b[0;34m(self, file_name, is_filter)\u001b[0m\n\u001b[1;32m    604\u001b[0m \u001b[38;5;28mself\u001b[39m\u001b[38;5;241m.\u001b[39mcounting_status(\u001b[38;5;124m\"\u001b[39m\u001b[38;5;124mcategory/TWLJP_4.json\u001b[39m\u001b[38;5;124m\"\u001b[39m, save_dir\u001b[38;5;241m=\u001b[39m\u001b[38;5;124m\"\u001b[39m\u001b[38;5;124mstatistics/TWLJP_4/\u001b[39m\u001b[38;5;124m\"\u001b[39m)\n\u001b[1;32m    605\u001b[0m \u001b[38;5;28;01mif\u001b[39;00m is_filter:\n\u001b[0;32m--> 606\u001b[0m     filter_dict, total_delete \u001b[38;5;241m=\u001b[39m \u001b[38;5;28;43mself\u001b[39;49m\u001b[38;5;241;43m.\u001b[39;49m\u001b[43mcheck_filter_redo_data\u001b[49m\u001b[43m(\u001b[49m\u001b[43m    \u001b[49m\u001b[43mfile_name\u001b[49m\u001b[38;5;241;43m=\u001b[39;49m\u001b[38;5;124;43m\"\u001b[39;49m\u001b[38;5;124;43mcategory/TWLJP_4.json\u001b[39;49m\u001b[38;5;124;43m\"\u001b[39;49m\u001b[43m,\u001b[49m\u001b[43m \u001b[49m\n\u001b[1;32m    607\u001b[0m \u001b[43m                                    \u001b[49m\u001b[43mthreshold\u001b[49m\u001b[43m \u001b[49m\u001b[38;5;241;43m=\u001b[39;49m\u001b[43m \u001b[49m\u001b[43m[\u001b[49m\u001b[43m{\u001b[49m\u001b[38;5;124;43m\"\u001b[39;49m\u001b[38;5;124;43mname\u001b[39;49m\u001b[38;5;124;43m\"\u001b[39;49m\u001b[43m:\u001b[49m\u001b[43m \u001b[49m\u001b[38;5;124;43m\"\u001b[39;49m\u001b[38;5;124;43marticle\u001b[39;49m\u001b[38;5;124;43m\"\u001b[39;49m\u001b[43m,\u001b[49m\u001b[43m \u001b[49m\u001b[38;5;124;43m\"\u001b[39;49m\u001b[38;5;124;43mnumber\u001b[39;49m\u001b[38;5;124;43m\"\u001b[39;49m\u001b[43m:\u001b[49m\u001b[43m \u001b[49m\u001b[38;5;241;43m30\u001b[39;49m\u001b[43m}\u001b[49m\u001b[43m,\u001b[49m\u001b[43m \u001b[49m\u001b[43m{\u001b[49m\u001b[38;5;124;43m\"\u001b[39;49m\u001b[38;5;124;43mname\u001b[39;49m\u001b[38;5;124;43m\"\u001b[39;49m\u001b[43m:\u001b[49m\u001b[43m \u001b[49m\u001b[38;5;124;43m\"\u001b[39;49m\u001b[38;5;124;43mcharges\u001b[39;49m\u001b[38;5;124;43m\"\u001b[39;49m\u001b[43m,\u001b[49m\u001b[43m \u001b[49m\u001b[38;5;124;43m\"\u001b[39;49m\u001b[38;5;124;43mnumber\u001b[39;49m\u001b[38;5;124;43m\"\u001b[39;49m\u001b[43m:\u001b[49m\u001b[43m \u001b[49m\u001b[38;5;241;43m30\u001b[39;49m\u001b[43m}\u001b[49m\u001b[43m,\u001b[49m\u001b[43m]\u001b[49m\u001b[43m,\u001b[49m\n\u001b[1;32m    608\u001b[0m \u001b[43m                                    \u001b[49m\u001b[43mreference_dir\u001b[49m\u001b[38;5;241;43m=\u001b[39;49m\u001b[38;5;124;43m'\u001b[39;49m\u001b[38;5;124;43mstatistics/TWLJP_4/\u001b[39;49m\u001b[38;5;124;43m'\u001b[39;49m\u001b[43m,\u001b[49m\n\u001b[1;32m    609\u001b[0m \u001b[43m                                    \u001b[49m\u001b[43msave_dir\u001b[49m\u001b[43m \u001b[49m\u001b[38;5;241;43m=\u001b[39;49m\u001b[43m \u001b[49m\u001b[38;5;124;43mf\u001b[39;49m\u001b[38;5;124;43m\"\u001b[39;49m\u001b[38;5;124;43mTWLJP/category/TWLJP_4/\u001b[39;49m\u001b[38;5;124;43m\"\u001b[39;49m\n\u001b[1;32m    610\u001b[0m \u001b[43m                                \u001b[49m\u001b[43m)\u001b[49m\n\u001b[1;32m    613\u001b[0m \u001b[38;5;66;03m# - 總結計算\u001b[39;00m\n\u001b[1;32m    614\u001b[0m category_result \u001b[38;5;241m=\u001b[39m [\n\u001b[1;32m    615\u001b[0m     \u001b[38;5;124mf\u001b[39m\u001b[38;5;124m\"\u001b[39m\u001b[38;5;124mTASK_1, \u001b[39m\u001b[38;5;132;01m{\u001b[39;00m\u001b[38;5;28mlen\u001b[39m(task_1)\u001b[38;5;132;01m}\u001b[39;00m\u001b[38;5;124m\"\u001b[39m,\n\u001b[1;32m    616\u001b[0m     \u001b[38;5;124mf\u001b[39m\u001b[38;5;124m\"\u001b[39m\u001b[38;5;124mTASK_2, \u001b[39m\u001b[38;5;132;01m{\u001b[39;00m\u001b[38;5;28mlen\u001b[39m(task_2)\u001b[38;5;132;01m}\u001b[39;00m\u001b[38;5;124m\"\u001b[39m,\n\u001b[1;32m    617\u001b[0m     \u001b[38;5;124mf\u001b[39m\u001b[38;5;124m\"\u001b[39m\u001b[38;5;124mTASK_3, \u001b[39m\u001b[38;5;132;01m{\u001b[39;00m\u001b[38;5;28mlen\u001b[39m(task_3)\u001b[38;5;132;01m}\u001b[39;00m\u001b[38;5;124m\"\u001b[39m,\n\u001b[1;32m    618\u001b[0m     \u001b[38;5;124mf\u001b[39m\u001b[38;5;124m\"\u001b[39m\u001b[38;5;124mTASK_4, \u001b[39m\u001b[38;5;132;01m{\u001b[39;00m\u001b[38;5;28mlen\u001b[39m(task_4)\u001b[38;5;132;01m}\u001b[39;00m\u001b[38;5;124m\"\u001b[39m \n\u001b[1;32m    619\u001b[0m ]\n",
      "File \u001b[0;32m~/Documents/NCU/WIDM/AILA/New/LJPTW_Extraction/tools/processAILA.py:382\u001b[0m, in \u001b[0;36mProcessAILA.check_filter_redo_data\u001b[0;34m(self, file_name, threshold, reference_dir, save_dir)\u001b[0m\n\u001b[1;32m    380\u001b[0m     json_content \u001b[38;5;241m=\u001b[39m \u001b[38;5;124m\"\u001b[39m\u001b[38;5;130;01m\\n\u001b[39;00m\u001b[38;5;124m\"\u001b[39m\u001b[38;5;241m.\u001b[39mjoin([json\u001b[38;5;241m.\u001b[39mdumps(item, ensure_ascii\u001b[38;5;241m=\u001b[39m\u001b[38;5;28;01mFalse\u001b[39;00m) \u001b[38;5;28;01mfor\u001b[39;00m item \u001b[38;5;129;01min\u001b[39;00m filtered_data_final])\n\u001b[1;32m    381\u001b[0m     \u001b[38;5;28mself\u001b[39m\u001b[38;5;241m.\u001b[39mcheck_and_create_directories(\u001b[38;5;28mself\u001b[39m\u001b[38;5;241m.\u001b[39msave_path, [\u001b[38;5;124m'\u001b[39m\u001b[38;5;124mTWLJP\u001b[39m\u001b[38;5;124m'\u001b[39m])   \u001b[38;5;66;03m# = 路徑防呆\u001b[39;00m\n\u001b[0;32m--> 382\u001b[0m     \u001b[38;5;28;43mself\u001b[39;49m\u001b[38;5;241;43m.\u001b[39;49m\u001b[43msave_to_file\u001b[49m\u001b[43m(\u001b[49m\u001b[38;5;124;43mf\u001b[39;49m\u001b[38;5;124;43m\"\u001b[39;49m\u001b[38;5;132;43;01m{\u001b[39;49;00m\u001b[38;5;28;43mself\u001b[39;49m\u001b[38;5;241;43m.\u001b[39;49m\u001b[43msave_path\u001b[49m\u001b[38;5;132;43;01m}\u001b[39;49;00m\u001b[38;5;132;43;01m{\u001b[39;49;00m\u001b[43msave_dir\u001b[49m\u001b[38;5;132;43;01m}\u001b[39;49;00m\u001b[38;5;132;43;01m{\u001b[39;49;00m\u001b[43mfile_name\u001b[49m\u001b[38;5;132;43;01m}\u001b[39;49;00m\u001b[38;5;124;43m\"\u001b[39;49m\u001b[43m,\u001b[49m\u001b[43m \u001b[49m\u001b[43mjson_content\u001b[49m\u001b[43m)\u001b[49m\n\u001b[1;32m    384\u001b[0m \u001b[38;5;28;01mreturn\u001b[39;00m delete_count, total_delete\n",
      "File \u001b[0;32m~/Documents/NCU/WIDM/AILA/New/LJPTW_Extraction/tools/processAILA.py:1121\u001b[0m, in \u001b[0;36mProcessAILA.save_to_file\u001b[0;34m(self, file_path, content)\u001b[0m\n\u001b[1;32m   1119\u001b[0m \u001b[38;5;28;01mdef\u001b[39;00m \u001b[38;5;21msave_to_file\u001b[39m(\u001b[38;5;28mself\u001b[39m, file_path, content):\n\u001b[0;32m-> 1121\u001b[0m     \u001b[38;5;28;01mwith\u001b[39;00m \u001b[38;5;28mopen\u001b[39m(file_path, \u001b[38;5;124m'\u001b[39m\u001b[38;5;124mw\u001b[39m\u001b[38;5;124m'\u001b[39m, encoding\u001b[38;5;241m=\u001b[39m\u001b[38;5;124m'\u001b[39m\u001b[38;5;124mutf-8\u001b[39m\u001b[38;5;124m'\u001b[39m) \u001b[38;5;28;01mas\u001b[39;00m writeFile:\n\u001b[1;32m   1122\u001b[0m         writeFile\u001b[38;5;241m.\u001b[39mwrite(content)\n\u001b[1;32m   1124\u001b[0m     logging\u001b[38;5;241m.\u001b[39minfo(\u001b[38;5;124mf\u001b[39m\u001b[38;5;124m\"\u001b[39m\u001b[38;5;124m已存擋於 \u001b[39m\u001b[38;5;132;01m{\u001b[39;00mfile_path\u001b[38;5;132;01m}\u001b[39;00m\u001b[38;5;124m\"\u001b[39m)\n",
      "\u001b[0;31mFileNotFoundError\u001b[0m: [Errno 2] No such file or directory: './data/processed/TWLJP/category/TWLJP_4/category/TWLJP_4.json'"
     ]
    }
   ],
   "source": [
    "# @ 分類 TWLJP: 1, 2, 3\n",
    "processData.category_data(file_name=\"filter_data.json\", is_filter=True)"
   ]
  },
  {
   "cell_type": "code",
   "execution_count": null,
   "metadata": {},
   "outputs": [
    {
     "data": {
      "text/plain": [
       "['1', '2']"
      ]
     },
     "execution_count": 7,
     "metadata": {},
     "output_type": "execute_result"
    }
   ],
   "source": []
  },
  {
   "cell_type": "code",
   "execution_count": null,
   "metadata": {},
   "outputs": [],
   "source": []
  }
 ],
 "metadata": {
  "kernelspec": {
   "display_name": "Python 3",
   "language": "python",
   "name": "python3"
  },
  "language_info": {
   "codemirror_mode": {
    "name": "ipython",
    "version": 3
   },
   "file_extension": ".py",
   "mimetype": "text/x-python",
   "name": "python",
   "nbconvert_exporter": "python",
   "pygments_lexer": "ipython3",
   "version": "3.11.5"
  }
 },
 "nbformat": 4,
 "nbformat_minor": 2
}
