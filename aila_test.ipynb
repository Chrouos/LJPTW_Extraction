{
 "cells": [
  {
   "cell_type": "code",
   "execution_count": 3,
   "metadata": {},
   "outputs": [
    {
     "name": "stdout",
     "output_type": "stream",
     "text": [
      "Here is Running by Mode.FORMAL_EXPECT_PROBLEM mode\n"
     ]
    }
   ],
   "source": [
    "from tools.processAILA import ProcessAILA\n",
    "processData = ProcessAILA(\n",
    "    source_path='./data/data_org/',\n",
    "    save_path='./data/processed/',\n",
    "    mode=None,\n",
    "    limit_counts=None,\n",
    "    isRandomData=True\n",
    ")"
   ]
  },
  {
   "cell_type": "code",
   "execution_count": 4,
   "metadata": {},
   "outputs": [
    {
     "name": "stdout",
     "output_type": "stream",
     "text": [
      "[countLength_source] Done!\n",
      "Save file to: ./data/processed/countLength_source.txt\n"
     ]
    }
   ],
   "source": [
    "# @ 計算初始總筆數\n",
    "processData.countLength_source()"
   ]
  },
  {
   "cell_type": "code",
   "execution_count": 5,
   "metadata": {},
   "outputs": [
    {
     "name": "stderr",
     "output_type": "stream",
     "text": [
      "Processing 澎湖地方檢察署:   0%|          | 0/22 [00:00<?, ?it/s]"
     ]
    },
    {
     "name": "stderr",
     "output_type": "stream",
     "text": [
      "Processing 新竹地方檢察署: 100%|██████████| 22/22 [09:53<00:00, 26.97s/it]\n"
     ]
    },
    {
     "name": "stdout",
     "output_type": "stream",
     "text": [
      "[TWLJP_JSON] Done!\n",
      "Save file to: ./data/processed//TWLJP/all_data.json\n"
     ]
    }
   ],
   "source": [
    "# @ 負責處理擷取資訊，以及將資訊儲存到 log\n",
    "processData.TWLJP_JSON()"
   ]
  },
  {
   "cell_type": "code",
   "execution_count": 6,
   "metadata": {},
   "outputs": [
    {
     "name": "stderr",
     "output_type": "stream",
     "text": [
      "Load Data: all_data.json: 100%|██████████| 376483/376483 [00:56<00:00, 6660.41it/s] \n",
      "counting_status: 100%|██████████| 376483/376483 [17:13<00:00, 364.31it/s]\n"
     ]
    },
    {
     "name": "stdout",
     "output_type": "stream",
     "text": [
      "[counting_status] Done!\n"
     ]
    }
   ],
   "source": [
    "# @ 計算處理前資訊\n",
    "processData.counting_status(\"all_data.json\", save_dir=\"statistics/ori/\")"
   ]
  },
  {
   "cell_type": "code",
   "execution_count": 7,
   "metadata": {},
   "outputs": [
    {
     "name": "stderr",
     "output_type": "stream",
     "text": [
      "Load Data: all_data.json: 100%|██████████| 376483/376483 [00:58<00:00, 6455.34it/s] \n",
      "filter_TWLJP (1/2): 100%|██████████| 376483/376483 [00:03<00:00, 96004.26it/s] \n",
      "Load Data: filter_data.json: 100%|██████████| 256696/256696 [08:52<00:00, 482.21it/s]  \n",
      "Load Data: filter_data.json: 100%|██████████| 256696/256696 [05:24<00:00, 790.01it/s]  \n",
      "counting_status: 100%|██████████| 256696/256696 [09:27<00:00, 451.98it/s]\n"
     ]
    },
    {
     "name": "stdout",
     "output_type": "stream",
     "text": [
      "[counting_status] Done!\n"
     ]
    },
    {
     "name": "stderr",
     "output_type": "stream",
     "text": [
      "filter_TWLJP (2/2) :1: 100%|██████████| 256696/256696 [01:15<00:00, 3401.24it/s]\n",
      "Load Data: filter_data.json: 100%|██████████| 254586/254586 [05:00<00:00, 847.97it/s]  \n",
      "Load Data: filter_data.json: 100%|██████████| 254586/254586 [14:51<00:00, 285.67it/s]  \n",
      "counting_status: 100%|██████████| 254586/254586 [06:42<00:00, 632.94it/s]\n"
     ]
    },
    {
     "name": "stdout",
     "output_type": "stream",
     "text": [
      "[counting_status] Done!\n"
     ]
    },
    {
     "name": "stderr",
     "output_type": "stream",
     "text": [
      "filter_TWLJP (2/2) :2: 100%|██████████| 254586/254586 [00:39<00:00, 6450.06it/s]\n",
      "Load Data: filter_data.json: 100%|██████████| 254412/254412 [07:16<00:00, 582.65it/s]  \n",
      "Load Data: filter_data.json: 100%|██████████| 254412/254412 [08:20<00:00, 508.41it/s]  \n",
      "counting_status: 100%|██████████| 254412/254412 [06:53<00:00, 615.74it/s]\n"
     ]
    },
    {
     "name": "stdout",
     "output_type": "stream",
     "text": [
      "[counting_status] Done!\n"
     ]
    },
    {
     "name": "stderr",
     "output_type": "stream",
     "text": [
      "filter_TWLJP (2/2) :3: 100%|██████████| 254412/254412 [00:42<00:00, 5997.34it/s]\n",
      "Load Data: filter_data.json: 100%|██████████| 254404/254404 [06:59<00:00, 605.80it/s]  \n",
      "Load Data: filter_data.json: 100%|██████████| 254404/254404 [08:05<00:00, 524.51it/s]  \n",
      "counting_status: 100%|██████████| 254404/254404 [06:56<00:00, 611.20it/s]\n"
     ]
    },
    {
     "name": "stdout",
     "output_type": "stream",
     "text": [
      "[counting_status] Done!\n",
      "[filter_TWLJP] 從 filter_data.json 中，過濾資料: 376483 -> 254404  ( 刪掉 -122079)\n",
      "[filter_TWLJP] Done!\n",
      "Save file to: ./data/processed//TWLJP/filter_data.json\n",
      "Save file to: ./data/processed/filter_result.txt\n"
     ]
    }
   ],
   "source": [
    "# @ 篩選資料\n",
    "processData.filter_TWLJP([{\"name\": \"article\", \"number\": 30}, {\"name\": \"charges\", \"number\": 30}], \"all_data.json\", reference_dir=\"statistics/filter/\")"
   ]
  },
  {
   "cell_type": "code",
   "execution_count": 8,
   "metadata": {},
   "outputs": [
    {
     "name": "stderr",
     "output_type": "stream",
     "text": [
      "Load Data: filter_data.json: 100%|██████████| 254404/254404 [00:24<00:00, 10404.76it/s]\n",
      "category_data: 100%|██████████| 254404/254404 [00:00<00:00, 693820.73it/s]\n",
      "Load Data: category/TWLJP_1.json: 100%|██████████| 251185/251185 [02:58<00:00, 1404.34it/s] \n",
      "Load Data: category/TWLJP_1.json: 100%|██████████| 251185/251185 [06:55<00:00, 604.15it/s]  \n",
      "counting_status: 100%|██████████| 251185/251185 [06:55<00:00, 604.16it/s]\n"
     ]
    },
    {
     "name": "stdout",
     "output_type": "stream",
     "text": [
      "[counting_status] Done!\n"
     ]
    },
    {
     "name": "stderr",
     "output_type": "stream",
     "text": [
      "Load Data: category/TWLJP_2.json: 100%|██████████| 213457/213457 [02:46<00:00, 1282.12it/s] \n",
      "Load Data: category/TWLJP_2.json: 100%|██████████| 213457/213457 [07:33<00:00, 470.39it/s]  \n",
      "counting_status: 100%|██████████| 213457/213457 [05:32<00:00, 641.01it/s]\n"
     ]
    },
    {
     "name": "stdout",
     "output_type": "stream",
     "text": [
      "[counting_status] Done!\n"
     ]
    },
    {
     "name": "stderr",
     "output_type": "stream",
     "text": [
      "filter_TWLJP (2/2) :1: 100%|██████████| 213457/213457 [00:27<00:00, 7746.54it/s]\n",
      "Load Data: category/TWLJP_2.json: 100%|██████████| 213294/213294 [04:10<00:00, 849.83it/s]  \n",
      "Load Data: category/TWLJP_2.json: 100%|██████████| 213294/213294 [05:35<00:00, 636.58it/s]  \n",
      "counting_status: 100%|██████████| 213294/213294 [05:08<00:00, 692.04it/s]\n"
     ]
    },
    {
     "name": "stdout",
     "output_type": "stream",
     "text": [
      "[counting_status] Done!\n"
     ]
    },
    {
     "name": "stderr",
     "output_type": "stream",
     "text": [
      "filter_TWLJP (2/2) :2: 100%|██████████| 213294/213294 [00:29<00:00, 7238.66it/s]\n",
      "Load Data: category/TWLJP_2.json: 100%|██████████| 213270/213270 [03:27<00:00, 1025.48it/s] \n",
      "Load Data: category/TWLJP_2.json: 100%|██████████| 213270/213270 [10:29<00:00, 338.58it/s]  \n",
      "counting_status: 100%|██████████| 213270/213270 [05:59<00:00, 593.66it/s]\n"
     ]
    },
    {
     "name": "stdout",
     "output_type": "stream",
     "text": [
      "[counting_status] Done!\n"
     ]
    },
    {
     "name": "stderr",
     "output_type": "stream",
     "text": [
      "Load Data: category/TWLJP_3.json: 100%|██████████| 10001/10001 [00:00<00:00, 19813.93it/s]\n",
      "Load Data: category/TWLJP_3.json: 100%|██████████| 10001/10001 [00:00<00:00, 19713.28it/s]\n",
      "counting_status: 100%|██████████| 10001/10001 [00:13<00:00, 753.33it/s]\n"
     ]
    },
    {
     "name": "stdout",
     "output_type": "stream",
     "text": [
      "[counting_status] Done!\n"
     ]
    },
    {
     "name": "stderr",
     "output_type": "stream",
     "text": [
      "filter_TWLJP (2/2) :1: 100%|██████████| 10001/10001 [00:00<00:00, 13868.47it/s]\n",
      "Load Data: category/TWLJP_3.json: 100%|██████████| 9577/9577 [00:00<00:00, 20634.13it/s]\n",
      "Load Data: category/TWLJP_3.json: 100%|██████████| 9577/9577 [00:00<00:00, 19016.81it/s]\n",
      "counting_status: 100%|██████████| 9577/9577 [00:11<00:00, 824.39it/s]\n"
     ]
    },
    {
     "name": "stdout",
     "output_type": "stream",
     "text": [
      "[counting_status] Done!\n"
     ]
    },
    {
     "name": "stderr",
     "output_type": "stream",
     "text": [
      "filter_TWLJP (2/2) :2: 100%|██████████| 9577/9577 [00:00<00:00, 28477.13it/s]\n",
      "Load Data: category/TWLJP_3.json: 100%|██████████| 9518/9518 [00:00<00:00, 21916.14it/s]\n",
      "Load Data: category/TWLJP_3.json: 100%|██████████| 9518/9518 [00:00<00:00, 22216.95it/s]\n",
      "counting_status: 100%|██████████| 9518/9518 [00:11<00:00, 827.01it/s]\n"
     ]
    },
    {
     "name": "stdout",
     "output_type": "stream",
     "text": [
      "[counting_status] Done!\n"
     ]
    },
    {
     "name": "stderr",
     "output_type": "stream",
     "text": [
      "Load Data: category/TWLJP_4.json: 100%|██████████| 27727/27727 [00:01<00:00, 14857.89it/s]\n",
      "Load Data: category/TWLJP_4.json: 100%|██████████| 27727/27727 [00:01<00:00, 16100.40it/s]\n",
      "counting_status: 100%|██████████| 27727/27727 [00:38<00:00, 718.48it/s]\n"
     ]
    },
    {
     "name": "stdout",
     "output_type": "stream",
     "text": [
      "[counting_status] Done!\n"
     ]
    },
    {
     "name": "stderr",
     "output_type": "stream",
     "text": [
      "filter_TWLJP (2/2) :1: 100%|██████████| 27727/27727 [00:02<00:00, 12075.88it/s]\n",
      "Load Data: category/TWLJP_4.json: 100%|██████████| 27219/27219 [00:01<00:00, 16027.12it/s]\n",
      "Load Data: category/TWLJP_4.json: 100%|██████████| 27219/27219 [00:01<00:00, 16404.54it/s]\n",
      "counting_status: 100%|██████████| 27219/27219 [00:36<00:00, 750.74it/s]\n"
     ]
    },
    {
     "name": "stdout",
     "output_type": "stream",
     "text": [
      "[counting_status] Done!\n"
     ]
    },
    {
     "name": "stderr",
     "output_type": "stream",
     "text": [
      "filter_TWLJP (2/2) :2: 100%|██████████| 27219/27219 [00:01<00:00, 20788.57it/s]\n",
      "Load Data: category/TWLJP_4.json: 100%|██████████| 27158/27158 [00:01<00:00, 14713.59it/s]\n",
      "Load Data: category/TWLJP_4.json: 100%|██████████| 27158/27158 [00:01<00:00, 15663.38it/s]\n",
      "counting_status: 100%|██████████| 27158/27158 [00:31<00:00, 849.71it/s] \n"
     ]
    },
    {
     "name": "stdout",
     "output_type": "stream",
     "text": [
      "[counting_status] Done!\n",
      "[category_data] Done!\n"
     ]
    }
   ],
   "source": [
    "# @ 分類 TWLJP: 1, 2, 3\n",
    "processData.category_data(file_name=\"filter_data.json\", is_filter=True)"
   ]
  },
  {
   "cell_type": "code",
   "execution_count": 9,
   "metadata": {},
   "outputs": [
    {
     "name": "stderr",
     "output_type": "stream",
     "text": [
      "Load Data: category/TWLJP_1.json: 100%|██████████| 251185/251185 [00:36<00:00, 6801.19it/s] \n",
      "Load Data: category/TWLJP_2.json: 100%|██████████| 213270/213270 [00:31<00:00, 6820.82it/s] \n",
      "Load Data: category/TWLJP_3.json: 100%|██████████| 9518/9518 [00:00<00:00, 22523.99it/s]\n",
      "Load Data: category/TWLJP_4.json: 100%|██████████| 27158/27158 [00:01<00:00, 19408.01it/s]\n"
     ]
    },
    {
     "name": "stdout",
     "output_type": "stream",
     "text": [
      "[category_train_test_split] Done!\n"
     ]
    }
   ],
   "source": [
    "# @ 分割 train test validation # => 輸出檔案為 TWLJP: 1, 2, 3, 4\n",
    "processData.category_train_test_split()"
   ]
  },
  {
   "cell_type": "code",
   "execution_count": null,
   "metadata": {},
   "outputs": [],
   "source": []
  }
 ],
 "metadata": {
  "kernelspec": {
   "display_name": "Python 3",
   "language": "python",
   "name": "python3"
  },
  "language_info": {
   "codemirror_mode": {
    "name": "ipython",
    "version": 3
   },
   "file_extension": ".py",
   "mimetype": "text/x-python",
   "name": "python",
   "nbconvert_exporter": "python",
   "pygments_lexer": "ipython3",
   "version": "3.11.5"
  }
 },
 "nbformat": 4,
 "nbformat_minor": 2
}
